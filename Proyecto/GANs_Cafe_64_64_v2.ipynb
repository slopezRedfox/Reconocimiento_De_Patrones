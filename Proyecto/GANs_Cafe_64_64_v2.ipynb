{
 "cells": [
  {
   "cell_type": "markdown",
   "metadata": {},
   "source": [
    "# DCGAN keras Imagenes 64 x 64"
   ]
  },
  {
   "cell_type": "code",
   "execution_count": 1,
   "metadata": {},
   "outputs": [
    {
     "ename": "SyntaxError",
     "evalue": "invalid syntax (<ipython-input-1-8d2daf772e1a>, line 1)",
     "output_type": "error",
     "traceback": [
      "\u001b[1;36m  File \u001b[1;32m\"<ipython-input-1-8d2daf772e1a>\"\u001b[1;36m, line \u001b[1;32m1\u001b[0m\n\u001b[1;33m    jupyter notebook --NotebookApp.max_buffer_size=6000000000\u001b[0m\n\u001b[1;37m                   ^\u001b[0m\n\u001b[1;31mSyntaxError\u001b[0m\u001b[1;31m:\u001b[0m invalid syntax\n"
     ]
    }
   ],
   "source": [
    "jupyter notebook --NotebookApp.max_buffer_size=6000000000"
   ]
  },
  {
   "cell_type": "code",
   "execution_count": 2,
   "metadata": {},
   "outputs": [
    {
     "data": {
      "text/plain": [
       "'2.1.0'"
      ]
     },
     "execution_count": 2,
     "metadata": {},
     "output_type": "execute_result"
    }
   ],
   "source": [
    "import tensorflow as tf\n",
    "tf.__version__"
   ]
  },
  {
   "cell_type": "code",
   "execution_count": 3,
   "metadata": {},
   "outputs": [
    {
     "name": "stderr",
     "output_type": "stream",
     "text": [
      "Using TensorFlow backend.\n"
     ]
    }
   ],
   "source": [
    "from __future__ import print_function, division\n",
    "\n",
    "#Se importan las bibliotecas. En caso de querer hacer este proceso directamente\n",
    "#en un ordenador se deben instalar las bilbiotecas que se indican a continuacion:\n",
    "\n",
    "import numpy as np\n",
    "import cv2\n",
    "import matplotlib.pyplot as plt\n",
    "import pickle\n",
    "import h5py\n",
    "import sklearn\n",
    "import glob\n",
    "import keras\n",
    "import time\n",
    "import imp\n",
    "import os\n",
    "import tensorflow as tf \n",
    "import pandas as pd\n",
    "import sys\n",
    "\n",
    "#Estas bibliotecas no son necesarias en su totalidad, solo se requieren ciertas\n",
    "#funciones\n",
    "from random import shuffle\n",
    "from skimage import io\n",
    "from collections import Counter\n",
    "from PIL import Image, ImageFont, ImageDraw, ImageEnhance\n",
    "\n",
    "from keras.datasets import mnist\n",
    "\n",
    "#Importe de funciones especificas de bibliotecas ya importadas\n",
    "from sklearn.model_selection import train_test_split\n",
    "from keras.preprocessing.image import ImageDataGenerator\n",
    "from keras.callbacks import LearningRateScheduler, ModelCheckpoint\n",
    "from keras.models import Sequential, Model\n",
    "from keras.layers import Input, Dense, Dropout, Activation, Flatten, Reshape\n",
    "from keras.layers import BatchNormalization, ZeroPadding2D, Reshape\n",
    "from keras.layers.advanced_activations import LeakyReLU\n",
    "from keras.layers import Conv2D, MaxPooling2D\n",
    "from keras.layers.convolutional import UpSampling2D\n",
    "from keras.optimizers import SGD, Adam\n",
    "\n",
    "from numpy import cov\n",
    "from numpy import trace\n",
    "from numpy import iscomplexobj\n",
    "from numpy import asarray\n",
    "from numpy.random import randint\n",
    "from scipy.linalg import sqrtm\n",
    "\n",
    "from keras.applications.inception_v3 import InceptionV3\n",
    "from keras.applications.inception_v3 import preprocess_input\n",
    "from skimage.transform import resize\n",
    "from keras.datasets.mnist import load_data\n",
    "\n",
    "from scipy.stats import wasserstein_distance\n",
    "\n",
    "#lineas requeridas solo en jupyter notbook\n",
    "from IPython.display import clear_output\n",
    "%matplotlib notebook\n",
    "%matplotlib inline\n",
    "#%tensorflow_version 2.x"
   ]
  },
  {
   "cell_type": "markdown",
   "metadata": {},
   "source": [
    "## Lectura de datos"
   ]
  },
  {
   "cell_type": "code",
   "execution_count": 4,
   "metadata": {},
   "outputs": [
    {
     "name": "stdout",
     "output_type": "stream",
     "text": [
      "Train (19017, 64, 64, 3) (19017, 1)\n"
     ]
    }
   ],
   "source": [
    "#Se inicia definiendo el diccionario map_characters, este posee originalmente 18\n",
    "#personajes, si se agrega otro más se debe agregar al diccionario y colocarsele \n",
    "#el número consecutivo que corresponda\n",
    "\n",
    "map_characters = {0: 'trainingCoffee'}\n",
    "                  \n",
    "#Se define el numero de clases con la extensión del diccionario\n",
    "num_classes = len(map_characters)\n",
    "\n",
    "#Número máximo de imagenes que se usaran por personaje para entrenar\n",
    "pictures_per_class = 20000\n",
    "\n",
    "def load_pictures(test_size, pic_size,BGR):\n",
    "    \"\"\"\n",
    "    Load pictures from folders for characters from the map_characters dict and create a numpy dataset and \n",
    "    a numpy labels set. Pictures are re-sized into picture_size square.\n",
    "    :param BGR: boolean to use true color for the picture (RGB instead of BGR for plt)\n",
    "    :return: dataset, labels set\n",
    "    \"\"\"\n",
    "    pics = []    #Se crea la lista de imagenes de salida\n",
    "    labels = []  #Se crea la lista de etiquetas de salida\n",
    "\n",
    "    #k es el numero de la variable en el diccionario\n",
    "    #char es el nombre de la variable en el diccionario\n",
    "    # El if lo que hace es que recorra cada una de las variables del diccionario\n",
    "    for k, char in map_characters.items(): \n",
    "\n",
    "        #Esta linea deivuelve la lista de rutas de las imagenes de cada personaje del diccionario\n",
    "        # Ej: para char = 'abraham_grampa_simpson' regresa todas las rutas de imagen de la carpeta\n",
    "        # abraham_grampa_simpson que a su vez esta en la carpeta characters.\n",
    "        #Es solo una forma elegante y rapida de optener todas las rutas\n",
    "        pictures = [k for k in glob.glob('./source/trainingSet/%s/*' % char)]\n",
    "\n",
    "        #Se establece la cantidad de imagenes que se van a usar en cada clase\n",
    "        #Como maximo se usan 1176 imagenes, estas son tanto para train como para test\n",
    "        #Si el personaje en particular tiene menos de 1176 imagenes se usara la extension del personaje en cuestion\n",
    "        nb_pic = round(pictures_per_class/(1-test_size)) if round(pictures_per_class/(1-test_size))<len(pictures) else len(pictures)\n",
    "\n",
    "        #Se usa la funcion random para ordenar de manera aleatoria las imagenes de cada personaje\n",
    "        #Cabe detacar que pic es una ruta de acceso aleatoria de la lista de rutas de acceso en pictures\n",
    "        for pic in np.random.choice(pictures, nb_pic):\n",
    "\n",
    "            #Se lee la imagen de la ruta \"pic\"\n",
    "            a = cv2.imread(pic)\n",
    "            a = cv2.cvtColor(a, cv2.COLOR_BGR2RGB)\n",
    "            # a = cv2.imread(pic, cv2.IMREAD_GRAYSCALE)\n",
    "\n",
    "            #Se hace un resize de las imagenes a pic_size x pic_size. Por defecoto\n",
    "            #este es 64x64. Esto concuerda con los pixeles de entrada de la red neuronal\n",
    "            a = cv2.resize(a, (pic_size,pic_size))\n",
    "\n",
    "            #Se agrega la imagen leida, convertida y escalada a la lista pics\n",
    "            pics.append(a)\n",
    "            #Se agrega la etiqueta numérica de la lista de etiquetas, esta etiqueta numerica \n",
    "            #concuerda con el número en el diccionario map_characters\n",
    "            labels.append(k)\n",
    "\n",
    "    #Se devuelve las listas pero antes se transforman a un formato de array con numpy\n",
    "    return np.array(pics), np.array(labels) \n",
    "\n",
    "def get_dataset(save=False, load=False, BGR=False, test_size=0.1, pic_size=64):\n",
    "    #Primero se llama a la funcion load_pictures, por defecto se deja estas en \n",
    "    #blanco y negro\n",
    "    #En esta funcion tambien se extraen los labels del archivo txt anotations\n",
    "    X, y = load_pictures(test_size, pic_size, BGR)\n",
    "\n",
    "    #Luego se pasa los labels a un formato numerico y en listas separadas,\n",
    "    #por ejemplo si el label es 2 to_categorical lo pasa a una lista [0 0 1 ... 0]\n",
    "    #El tamaño de la lista depende de cuantas clases se tenga, en este ejemplo son 18\n",
    "    y = keras.utils.to_categorical(y, num_classes)\n",
    "\n",
    "    #Se normaliza las imagenes para que los valores de cada banda esten en punto flotante\n",
    "    #y además se encuentren entre 0 y 1. Esto ayuda a la velocidad de entrenamiento           \n",
    "    X = X.astype('float32') / 255.\n",
    "    \n",
    "    #Se imprime las formas de cada tensor. Si se mantienen todas las variables \n",
    "    #por defecto estas deben ser (x,64,64,3) y (x,w), donde x es el numero de imagenes\n",
    "    #y w es la cantidad de clases en el diccionario\n",
    "    print(\"Train\", X.shape, y.shape)\n",
    "\n",
    "    return X, y\n",
    "\n",
    "#Uso de funciones de lectura para dividir el set de imagnes en test y train\n",
    "X, y = get_dataset(save=True)"
   ]
  },
  {
   "cell_type": "code",
   "execution_count": 5,
   "metadata": {},
   "outputs": [
    {
     "data": {
      "image/png": "[encoded data removed]",
      "text/plain": [
       "<Figure size 432x288 with 1 Axes>"
      ]
     },
     "metadata": {
      "needs_background": "light"
     },
     "output_type": "display_data"
    }
   ],
   "source": [
    "plt.imshow(X[0])\n",
    "plt.show()"
   ]
  },
  {
   "cell_type": "markdown",
   "metadata": {},
   "source": [
    "## Hiper Parametros"
   ]
  },
  {
   "cell_type": "code",
   "execution_count": 7,
   "metadata": {},
   "outputs": [],
   "source": [
    "#Dimensiones de imagen\n",
    "img_rows = 64\n",
    "img_cols = 64\n",
    "channels = 3\n",
    "latent_dim = 100\n",
    "img_shape = (img_rows, img_cols, channels)\n",
    "img_shape\n",
    "\n",
    "#Filtros y configuracion de red\n",
    "Filtros_Iniciales = 64  #Filtros iniciales en la primera capa de la generadora\n",
    "upsample_layers = 5     #Cantidad de layers que se tienen en la red generadora\n",
    "Kernels = 5             #Dimenciones de los filtros ejemplo: Kernels = 3 equivale a filtros 3x3\n",
    "\n",
    "#Optimizador Adam\n",
    "lr  = 0.0002 \n",
    "b_1 = 0.5    #Beta 1"
   ]
  },
  {
   "cell_type": "markdown",
   "metadata": {},
   "source": [
    "## Configuración de las Redes"
   ]
  },
  {
   "cell_type": "markdown",
   "metadata": {},
   "source": [
    "Para la generación de imágenes se usará la aproximación GANs con dos redes convolucionales que compiten entre ellas, una se encarga de distinguir entre imágenes de café (Red Discriminadora) y la otra en tratar de engañar a la primera (Red Generadora)."
   ]
  },
  {
   "cell_type": "markdown",
   "metadata": {},
   "source": [
    "![Sistem_diagram](Imagenes/Sistema.png)"
   ]
  },
  {
   "cell_type": "markdown",
   "metadata": {},
   "source": [
    "### Arquitectura de Red Generadora"
   ]
  },
  {
   "cell_type": "markdown",
   "metadata": {},
   "source": [
    "![Gen_diagram](Imagenes/Gen.png)"
   ]
  },
  {
   "cell_type": "code",
   "execution_count": 8,
   "metadata": {},
   "outputs": [],
   "source": [
    "def build_generator():\n",
    "    noise_shape = (latent_dim,)\n",
    "    \n",
    "    model = Sequential()\n",
    "\n",
    "    model.add(Dense(Filtros_Iniciales * (img_rows // (2 ** upsample_layers))  *  (img_cols // (2 ** upsample_layers)), activation=\"relu\", input_shape=noise_shape))\n",
    "    model.add(Reshape(((img_rows // (2 ** upsample_layers)),\n",
    "                       (img_cols // (2 ** upsample_layers)),\n",
    "                       Filtros_Iniciales)))\n",
    "    \n",
    "    model.add(BatchNormalization(momentum=0.8))\n",
    "        \n",
    "    model.add(UpSampling2D())\n",
    "    model.add(Conv2D(1024, kernel_size=Kernels, padding=\"same\"))\n",
    "    model.add(Activation(\"relu\"))\n",
    "    model.add(BatchNormalization(momentum=0.8))\n",
    "    \n",
    "    model.add(UpSampling2D())\n",
    "    model.add(Conv2D(512, kernel_size=Kernels, padding=\"same\"))\n",
    "    model.add(Activation(\"relu\"))\n",
    "    model.add(BatchNormalization(momentum=0.8))\n",
    "    \n",
    "    model.add(UpSampling2D())\n",
    "    model.add(Conv2D(256, kernel_size=Kernels, padding=\"same\"))\n",
    "    model.add(Activation(\"relu\"))\n",
    "    model.add(BatchNormalization(momentum=0.8))\n",
    "\n",
    "    model.add(UpSampling2D())\n",
    "    model.add(Conv2D(128, kernel_size=Kernels, padding=\"same\"))\n",
    "    model.add(Activation(\"relu\"))\n",
    "    model.add(BatchNormalization(momentum=0.8))\n",
    "    \n",
    "    model.add(UpSampling2D())\n",
    "    model.add(Conv2D(64, kernel_size=Kernels, padding=\"same\"))\n",
    "    model.add(Activation(\"relu\"))\n",
    "    model.add(BatchNormalization(momentum=0.8))\n",
    "    \n",
    "    model.add(Conv2D(channels, kernel_size=Kernels, padding=\"same\"))\n",
    "    model.add(Activation(\"tanh\"))\n",
    "    model.add(Reshape(img_shape))\n",
    "\n",
    "    model.summary()\n",
    "\n",
    "    noise = Input(shape=(latent_dim,))\n",
    "    fake_img = model(noise)\n",
    "\n",
    "    return Model(noise, fake_img)"
   ]
  },
  {
   "cell_type": "markdown",
   "metadata": {},
   "source": [
    "### Arquitectura de Red Discriminadora"
   ]
  },
  {
   "cell_type": "markdown",
   "metadata": {},
   "source": [
    "![Dis_diagram](Imagenes/Dis.png)"
   ]
  },
  {
   "cell_type": "code",
   "execution_count": 9,
   "metadata": {},
   "outputs": [],
   "source": [
    "def build_discriminator():\n",
    "\n",
    "    #Se crea primeramente un modelo \"Sequential\", este es el tipo de red neuronal\n",
    "    #existen otros tipos como las recursivas y las recurrentes.\n",
    "    model = Sequential()\n",
    "\n",
    "    model.add(Conv2D(32, (3, 3), padding='same', input_shape=img_shape))\n",
    "    model.add(Activation('relu'))\n",
    "    \n",
    "    model.add(Conv2D(32, (3, 3)))\n",
    "    model.add(Activation('relu'))\n",
    "    \n",
    "    model.add(MaxPooling2D(pool_size=(2, 2)))\n",
    "    model.add(Dropout(0.25))\n",
    "\n",
    "    model.add(Conv2D(64, (3, 3), padding='same'))\n",
    "    model.add(Activation('relu'))\n",
    "    \n",
    "    model.add(Conv2D(64, (3, 3)))\n",
    "    model.add(Activation('relu'))\n",
    "\n",
    "    model.add(MaxPooling2D(pool_size=(2, 2)))\n",
    "    model.add(Dropout(0.25))\n",
    "\n",
    "    model.add(Flatten())\n",
    "    model.add(Dense(512))\n",
    "    model.add(Activation('relu'))\n",
    "    model.add(Dropout(0.5))\n",
    "    \n",
    "    #Finalmente se reduce a la cantidad de neuronas equivalentes a la cantidad de clases\n",
    "    #que se desean, en nuestro caso, la cantidad de personajes que estamos clasificando\n",
    "    model.add(Dense(1, activation='sigmoid'))\n",
    "\n",
    "    model.summary()\n",
    "\n",
    "    img = Input(shape=img_shape)\n",
    "    validity = model(img)\n",
    "\n",
    "    return Model(img, validity)"
   ]
  },
  {
   "cell_type": "markdown",
   "metadata": {},
   "source": [
    "## Funciones de entrenamiento"
   ]
  },
  {
   "cell_type": "code",
   "execution_count": 10,
   "metadata": {},
   "outputs": [],
   "source": [
    "#-------------------------------------\n",
    "itr_list = []\n",
    "acc_list = []\n",
    "d_loss_list = []\n",
    "g_loss_list = []\n",
    "fid_list = []\n",
    "wasserstein_distance_list = []"
   ]
  },
  {
   "cell_type": "code",
   "execution_count": 11,
   "metadata": {},
   "outputs": [],
   "source": [
    "def train(X_train, epochs_inicial, epochs, batch_size=128, save_interval=50):\n",
    " \n",
    "    #La mitad del bach es imagenes falsas y la otra mitad imagenes reales\n",
    "    half_batch = int(batch_size / 2)\n",
    "\n",
    "    # Adversarial ground truths\n",
    "    valid = np.ones((half_batch, 1))\n",
    "    fake = np.zeros((half_batch, 1))\n",
    "    \n",
    "    for epoch in range(epochs_inicial, epochs):\n",
    "\n",
    "        # ---------------------\n",
    "        #  Train Discriminator\n",
    "        # ---------------------\n",
    "        \n",
    "        # Se seleccionan imagenes aleatorias para hacer la epoca\n",
    "        idx = np.random.randint(0, X_train.shape[0], half_batch)\n",
    "        imgs = X_train[idx]\n",
    "\n",
    "        # El generador da un numero de imagenes sinteticas para la epoca\n",
    "        noise = np.random.normal(0, 1, (half_batch, latent_dim))\n",
    "        gen_imgs = generator.predict(noise)\n",
    "\n",
    "        #Se entrena con las imagenes reales\n",
    "        d_loss_real = discriminator.train_on_batch(imgs, valid)\n",
    "        \n",
    "        #Se entrena con las imagenes creadas como falsas\n",
    "        d_loss_fake = discriminator.train_on_batch(gen_imgs, fake)\n",
    "        \n",
    "        d_loss = 0.5 * np.add(d_loss_real, d_loss_fake)\n",
    "        \n",
    "        # ---------------------\n",
    "        #  Train Generator\n",
    "        # ---------------------\n",
    "\n",
    "        # Se ingresa el ruido al generador y la idea es que\n",
    "        # el generador engañe al discriminador para que piense que es\n",
    "        # una imagen real, por eso ponemos que el ruido es valido\n",
    "        # Aqui solo se modifian los pesos del generador\n",
    "        g_loss = combined.train_on_batch(noise, valid)\n",
    "        \n",
    "        #------------------------------------------\n",
    "        # Calculo de Frechet Inception Distance\n",
    "        #------------------------------------------\n",
    "        \n",
    "        ##Descomentar luego\n",
    "        ## Se seleccionan imagenes aleatorias para hacer la epoca\n",
    "        #idx = np.random.randint(0, X_train.shape[0], 128)\n",
    "        #imgs = X_train[idx]\n",
    "\n",
    "        ## El generador da un numero de imagenes sinteticas para la epoca\n",
    "        #noise = np.random.normal(0, 1, (128, latent_dim))\n",
    "        #gen_imgs = generator.predict(noise)\n",
    "        #\n",
    "        ## resize images\n",
    "        #images1 = scale_images(imgs, (128,128,3))\n",
    "        #images2 = scale_images(gen_imgs, (128,128,3))\n",
    "        #\n",
    "        ## pre-process images\n",
    "        #images1 = preprocess_input(images1)\n",
    "        #images2 = preprocess_input(images2)\n",
    "        #\n",
    "        ## calculate fid\n",
    "        #fid = calculate_fid(model, images1, images2)\n",
    "        #fid_list.append(fid)\n",
    "        \n",
    "        #---------------------------\n",
    "        # wasserstein_distance\n",
    "        #--------------------------\n",
    "        \n",
    "        #wasserstein_distance_list.append(wasserstein_distance([d_loss[0]], [g_loss]))       \n",
    "        \n",
    "        #----------------------------------------------------------------------\n",
    "        #Se guarda los resultados en una lista\n",
    "        itr_list.append(epoch)\n",
    "        acc_list.append(100*d_loss[1])\n",
    "        d_loss_list.append(d_loss[0])\n",
    "        g_loss_list.append(g_loss)\n",
    "        \n",
    "        #----------------------------------------------------------------------\n",
    "        #f, (ax1, ax2, ax3, ax4) = plt.subplots(4, 1, sharex='col', figsize=(13,7))\n",
    "        #f, (ax1, ax4) = plt.subplots(2, 1, sharex='col', figsize=(13,7))\n",
    "        \n",
    "        #ax1.plot(itr_list, d_loss_list, label = \"Discriminator Loss\")\n",
    "        #ax1.plot(itr_list, g_loss_list, label = \"Generator Loss\")\n",
    "        #ax1.legend()\n",
    "\n",
    "        ##\n",
    "        #ax2.plot(itr_list, wasserstein_distance_list, '-b', label = \"Wasserstein Distance\")\n",
    "        #ax2.legend()\n",
    "        \n",
    "        ##\n",
    "        #ax3.plot(itr_list, fid_list, '-g', label = \"Frechet Inception Distance\")\n",
    "        #ax3.legend()\n",
    "        \n",
    "        # Create two subplots and unpack the output array immediately\n",
    "        #ax4.plot(itr_list, acc_list, '-r', label = \"Discriminator Accuracy\")\n",
    "        #ax4.legend()\n",
    "        \n",
    "        #plt.pause(0.0002)\n",
    "        #clear_output(wait=True)\n",
    "        \n",
    "        # If at save interval => save generated image samples\n",
    "        if epoch % save_interval == 0:\n",
    "            print (\"%d Discriminator_loss: %f acc.: %.2f%% Generator_loss: %f\" % (epoch, d_loss[0], 100*d_loss[1], g_loss))\n",
    "            save_imgs(epoch)\n",
    "            \n",
    "        if epoch == epochs - 1:\n",
    "            #Cuendo termina el entrenamiento se guardan en un df\n",
    "            df = pd.DataFrame()\n",
    "            df['itr'] = itr_list\n",
    "            df['acc'] = acc_list\n",
    "            df['d_loss'] = d_loss_list\n",
    "            df['g_loss'] = g_loss_list\n",
    "            #df['w_distance'] = wasserstein_distance_list\n",
    "            #df['fid'] = fid_list\n",
    "            df.to_csv('results.csv', index=False)    "
   ]
  },
  {
   "cell_type": "markdown",
   "metadata": {},
   "source": [
    "## Calculo del FID"
   ]
  },
  {
   "cell_type": "markdown",
   "metadata": {},
   "source": [
    "https://keras.io/api/applications/inceptionresnetv2/\n",
    "https://machinelearningmastery.com/how-to-implement-the-frechet-inception-distance-fid-from-scratch/\n"
   ]
  },
  {
   "cell_type": "code",
   "execution_count": 13,
   "metadata": {},
   "outputs": [],
   "source": [
    "# scale an array of images to a new size\n",
    "def scale_images(images, new_shape):\n",
    "\timages_list = list()\n",
    "\tfor image in images:\n",
    "\t\t# resize with nearest neighbor interpolation\n",
    "\t\tnew_image = resize(image, new_shape, 0)\n",
    "\t\t# store\n",
    "\t\timages_list.append(new_image)\n",
    "\treturn asarray(images_list)\n",
    "\n",
    "# calculate frechet inception distance\n",
    "def calculate_fid(model, images1, images2):\n",
    "\t# calculate activations\n",
    "\tact1 = model.predict(images1)\n",
    "\tact2 = model.predict(images2)\n",
    "\t# calculate mean and covariance statistics\n",
    "\tmu1, sigma1 = act1.mean(axis=0), cov(act1, rowvar=False)\n",
    "\tmu2, sigma2 = act2.mean(axis=0), cov(act2, rowvar=False)\n",
    "\t# calculate sum squared difference between means\n",
    "\tssdiff = np.sum((mu1 - mu2)**2.0)\n",
    "\t# calculate sqrt of product between cov\n",
    "\tcovmean = sqrtm(sigma1.dot(sigma2))\n",
    "\t# check and correct imaginary numbers from sqrt\n",
    "\tif iscomplexobj(covmean):\n",
    "\t\tcovmean = covmean.real\n",
    "\t# calculate score\n",
    "\tfid = ssdiff + trace(sigma1 + sigma2 - 2.0 * covmean)\n",
    "\treturn fid\n",
    "\n",
    "# this could also be the output a different Keras model or layer\n",
    "input_tensor = Input(shape=(128, 128, 3))\n",
    "model = InceptionV3(input_tensor=input_tensor, weights='imagenet', include_top=True)"
   ]
  },
  {
   "cell_type": "code",
   "execution_count": 14,
   "metadata": {},
   "outputs": [],
   "source": [
    "#def save_imgs(epoch):\n",
    "#    noise = np.random.normal(0, 1, (1, latent_dim))\n",
    "#    gen_imgs = generator.predict(noise)\n",
    "#\n",
    "#    # Rescale images 0 - 1\n",
    "#    gen_imgs = abs(gen_imgs)\n",
    "#    gen_imgs = (abs(gen_imgs) * 255.).astype(int)\n",
    "#\n",
    "#    fig = plt.gcf()\n",
    "#    fig.set_size_inches(64/71.5, 64/71.5)\n",
    "#    ax = plt.Axes(fig, [0., 0., 1., 1.])\n",
    "#    ax.axis('off')\n",
    "#    fig.add_axes(ax)\n",
    "#    ax.imshow(gen_imgs[0])\n",
    "#    fig.savefig(\"ResultadosCafe/mnist_%d.png\" % epoch)\n",
    "#    plt.close()\n",
    "\n",
    "def save_imgs(epoch):\n",
    "    r, c = 5, 5\n",
    "    noise = np.random.normal(0, 1, (r * c, latent_dim))\n",
    "    gen_imgs = generator.predict(noise)\n",
    "\n",
    "    # Rescale images 0 - 1\n",
    "    gen_imgs = abs(gen_imgs)\n",
    "\n",
    "    fig, axs = plt.subplots(r, c)\n",
    "    cnt = 0\n",
    "    for i in range(r):\n",
    "        for j in range(c):\n",
    "            axs[i,j].imshow((gen_imgs[cnt] * 255).astype(int))\n",
    "            axs[i,j].axis('off')\n",
    "            cnt += 1\n",
    "    fig.savefig(\"ResultadosCafe/mnist_%d.png\" % epoch)\n",
    "    plt.close()"
   ]
  },
  {
   "cell_type": "markdown",
   "metadata": {},
   "source": [
    "## Main part"
   ]
  },
  {
   "cell_type": "markdown",
   "metadata": {},
   "source": [
    "### Entrenamiento desde cero"
   ]
  },
  {
   "cell_type": "code",
   "execution_count": 15,
   "metadata": {
    "collapsed": true,
    "jupyter": {
     "outputs_hidden": true
    }
   },
   "outputs": [
    {
     "name": "stdout",
     "output_type": "stream",
     "text": [
      "Model: \"sequential_1\"\n",
      "_________________________________________________________________\n",
      "Layer (type)                 Output Shape              Param #   \n",
      "=================================================================\n",
      "conv2d_189 (Conv2D)          (None, 64, 64, 32)        896       \n",
      "_________________________________________________________________\n",
      "activation_189 (Activation)  (None, 64, 64, 32)        0         \n",
      "_________________________________________________________________\n",
      "conv2d_190 (Conv2D)          (None, 62, 62, 32)        9248      \n",
      "_________________________________________________________________\n",
      "activation_190 (Activation)  (None, 62, 62, 32)        0         \n",
      "_________________________________________________________________\n",
      "max_pooling2d_9 (MaxPooling2 (None, 31, 31, 32)        0         \n",
      "_________________________________________________________________\n",
      "dropout_1 (Dropout)          (None, 31, 31, 32)        0         \n",
      "_________________________________________________________________\n",
      "conv2d_191 (Conv2D)          (None, 31, 31, 64)        18496     \n",
      "_________________________________________________________________\n",
      "activation_191 (Activation)  (None, 31, 31, 64)        0         \n",
      "_________________________________________________________________\n",
      "conv2d_192 (Conv2D)          (None, 29, 29, 64)        36928     \n",
      "_________________________________________________________________\n",
      "activation_192 (Activation)  (None, 29, 29, 64)        0         \n",
      "_________________________________________________________________\n",
      "max_pooling2d_10 (MaxPooling (None, 14, 14, 64)        0         \n",
      "_________________________________________________________________\n",
      "dropout_2 (Dropout)          (None, 14, 14, 64)        0         \n",
      "_________________________________________________________________\n",
      "flatten_1 (Flatten)          (None, 12544)             0         \n",
      "_________________________________________________________________\n",
      "dense_1 (Dense)              (None, 512)               6423040   \n",
      "_________________________________________________________________\n",
      "activation_193 (Activation)  (None, 512)               0         \n",
      "_________________________________________________________________\n",
      "dropout_3 (Dropout)          (None, 512)               0         \n",
      "_________________________________________________________________\n",
      "dense_2 (Dense)              (None, 1)                 513       \n",
      "=================================================================\n",
      "Total params: 6,489,121\n",
      "Trainable params: 6,489,121\n",
      "Non-trainable params: 0\n",
      "_________________________________________________________________\n",
      "Model: \"sequential_2\"\n",
      "_________________________________________________________________\n",
      "Layer (type)                 Output Shape              Param #   \n",
      "=================================================================\n",
      "dense_3 (Dense)              (None, 256)               25856     \n",
      "_________________________________________________________________\n",
      "reshape_1 (Reshape)          (None, 2, 2, 64)          0         \n",
      "_________________________________________________________________\n",
      "batch_normalization_189 (Bat (None, 2, 2, 64)          256       \n",
      "_________________________________________________________________\n",
      "up_sampling2d_1 (UpSampling2 (None, 4, 4, 64)          0         \n",
      "_________________________________________________________________\n",
      "conv2d_193 (Conv2D)          (None, 4, 4, 1024)        1639424   \n",
      "_________________________________________________________________\n",
      "activation_194 (Activation)  (None, 4, 4, 1024)        0         \n",
      "_________________________________________________________________\n",
      "batch_normalization_190 (Bat (None, 4, 4, 1024)        4096      \n",
      "_________________________________________________________________\n",
      "up_sampling2d_2 (UpSampling2 (None, 8, 8, 1024)        0         \n",
      "_________________________________________________________________\n",
      "conv2d_194 (Conv2D)          (None, 8, 8, 512)         13107712  \n",
      "_________________________________________________________________\n",
      "activation_195 (Activation)  (None, 8, 8, 512)         0         \n",
      "_________________________________________________________________\n",
      "batch_normalization_191 (Bat (None, 8, 8, 512)         2048      \n",
      "_________________________________________________________________\n",
      "up_sampling2d_3 (UpSampling2 (None, 16, 16, 512)       0         \n",
      "_________________________________________________________________\n",
      "conv2d_195 (Conv2D)          (None, 16, 16, 256)       3277056   \n",
      "_________________________________________________________________\n",
      "activation_196 (Activation)  (None, 16, 16, 256)       0         \n",
      "_________________________________________________________________\n",
      "batch_normalization_192 (Bat (None, 16, 16, 256)       1024      \n",
      "_________________________________________________________________\n",
      "up_sampling2d_4 (UpSampling2 (None, 32, 32, 256)       0         \n",
      "_________________________________________________________________\n",
      "conv2d_196 (Conv2D)          (None, 32, 32, 128)       819328    \n",
      "_________________________________________________________________\n",
      "activation_197 (Activation)  (None, 32, 32, 128)       0         \n",
      "_________________________________________________________________\n",
      "batch_normalization_193 (Bat (None, 32, 32, 128)       512       \n",
      "_________________________________________________________________\n",
      "up_sampling2d_5 (UpSampling2 (None, 64, 64, 128)       0         \n",
      "_________________________________________________________________\n",
      "conv2d_197 (Conv2D)          (None, 64, 64, 64)        204864    \n",
      "_________________________________________________________________\n",
      "activation_198 (Activation)  (None, 64, 64, 64)        0         \n",
      "_________________________________________________________________\n",
      "batch_normalization_194 (Bat (None, 64, 64, 64)        256       \n",
      "_________________________________________________________________\n",
      "conv2d_198 (Conv2D)          (None, 64, 64, 3)         4803      \n",
      "_________________________________________________________________\n",
      "activation_199 (Activation)  (None, 64, 64, 3)         0         \n",
      "_________________________________________________________________\n",
      "reshape_2 (Reshape)          (None, 64, 64, 3)         0         \n",
      "=================================================================\n",
      "Total params: 19,087,235\n",
      "Trainable params: 19,083,139\n",
      "Non-trainable params: 4,096\n",
      "_________________________________________________________________\n"
     ]
    }
   ],
   "source": [
    "#Se pone el optimizador junto con los hiper parametros\n",
    "optimizer = Adam(lr, b_1)\n",
    "\n",
    "# Build and compile the discriminator\n",
    "discriminator = build_discriminator()\n",
    "discriminator.compile(loss='binary_crossentropy', optimizer=optimizer, metrics=['accuracy'])\n",
    "\n",
    "# Build the generator\n",
    "generator = build_generator()\n",
    "generator.compile(loss='binary_crossentropy', optimizer=optimizer)\n",
    "\n",
    "# The generator takes noise as input and generates imgs\n",
    "z = Input(shape=(latent_dim,))\n",
    "img = generator(z)\n",
    "\n",
    "# For the combined model we will only train the generator\n",
    "discriminator.trainable = False\n",
    "\n",
    "# The discriminator takes generated images as input and determines validity\n",
    "valid = discriminator(img)\n",
    "\n",
    "# The combined model  (stacked generator and discriminator)\n",
    "# Trains the generator to fool the discriminator\n",
    "combined = Model(z, valid)\n",
    "combined.compile(loss='binary_crossentropy', optimizer=optimizer)"
   ]
  },
  {
   "cell_type": "code",
   "execution_count": null,
   "metadata": {},
   "outputs": [
    {
     "name": "stderr",
     "output_type": "stream",
     "text": [
      "C:\\Users\\santi\\anaconda3\\envs\\gpu2\\lib\\site-packages\\keras\\engine\\training.py:297: UserWarning: Discrepancy between trainable weights and collected trainable weights, did you set `model.trainable` without calling `model.compile` after ?\n",
      "  'Discrepancy between trainable weights and collected trainable'\n",
      "C:\\Users\\santi\\anaconda3\\envs\\gpu2\\lib\\site-packages\\keras\\engine\\training.py:297: UserWarning: Discrepancy between trainable weights and collected trainable weights, did you set `model.trainable` without calling `model.compile` after ?\n",
      "  'Discrepancy between trainable weights and collected trainable'\n"
     ]
    },
    {
     "name": "stdout",
     "output_type": "stream",
     "text": [
      "0 Discriminator_loss: 0.767722 acc.: 12.50% Generator_loss: 0.109485\n"
     ]
    },
    {
     "name": "stderr",
     "output_type": "stream",
     "text": [
      "C:\\Users\\santi\\anaconda3\\envs\\gpu2\\lib\\site-packages\\keras\\engine\\training.py:297: UserWarning: Discrepancy between trainable weights and collected trainable weights, did you set `model.trainable` without calling `model.compile` after ?\n",
      "  'Discrepancy between trainable weights and collected trainable'\n"
     ]
    },
    {
     "name": "stdout",
     "output_type": "stream",
     "text": [
      "500 Discriminator_loss: 0.496212 acc.: 62.50% Generator_loss: 1.330899\n",
      "1000 Discriminator_loss: 0.708407 acc.: 50.00% Generator_loss: 0.798372\n",
      "1500 Discriminator_loss: 0.685277 acc.: 53.12% Generator_loss: 0.748674\n",
      "2000 Discriminator_loss: 0.677657 acc.: 65.62% Generator_loss: 0.778424\n",
      "2500 Discriminator_loss: 0.679371 acc.: 50.00% Generator_loss: 0.779117\n",
      "3000 Discriminator_loss: 0.645087 acc.: 56.25% Generator_loss: 0.768747\n",
      "3500 Discriminator_loss: 0.648413 acc.: 56.25% Generator_loss: 0.857268\n",
      "4000 Discriminator_loss: 0.700172 acc.: 43.75% Generator_loss: 0.747701\n",
      "4500 Discriminator_loss: 0.618426 acc.: 62.50% Generator_loss: 0.844810\n",
      "5000 Discriminator_loss: 0.596753 acc.: 75.00% Generator_loss: 0.785057\n",
      "5500 Discriminator_loss: 0.648574 acc.: 62.50% Generator_loss: 0.842522\n",
      "6000 Discriminator_loss: 0.616375 acc.: 62.50% Generator_loss: 0.885345\n",
      "6500 Discriminator_loss: 0.632752 acc.: 53.12% Generator_loss: 0.907258\n",
      "7000 Discriminator_loss: 0.639945 acc.: 56.25% Generator_loss: 0.914017\n",
      "7500 Discriminator_loss: 0.588368 acc.: 65.62% Generator_loss: 0.872778\n",
      "8000 Discriminator_loss: 0.605008 acc.: 59.38% Generator_loss: 0.776011\n",
      "8500 Discriminator_loss: 0.635333 acc.: 59.38% Generator_loss: 0.804182\n",
      "9000 Discriminator_loss: 0.683951 acc.: 53.12% Generator_loss: 0.818551\n",
      "9500 Discriminator_loss: 0.627599 acc.: 59.38% Generator_loss: 0.842615\n",
      "10000 Discriminator_loss: 0.664583 acc.: 53.12% Generator_loss: 0.821846\n",
      "10500 Discriminator_loss: 0.588588 acc.: 62.50% Generator_loss: 0.884929\n",
      "11000 Discriminator_loss: 0.655681 acc.: 56.25% Generator_loss: 0.776903\n",
      "11500 Discriminator_loss: 0.512733 acc.: 71.88% Generator_loss: 0.869941\n",
      "12000 Discriminator_loss: 0.547827 acc.: 71.88% Generator_loss: 0.863320\n",
      "12500 Discriminator_loss: 0.640221 acc.: 56.25% Generator_loss: 0.817209\n",
      "13000 Discriminator_loss: 0.663343 acc.: 53.12% Generator_loss: 0.834711\n",
      "13500 Discriminator_loss: 0.587189 acc.: 62.50% Generator_loss: 0.842823\n",
      "14000 Discriminator_loss: 0.614934 acc.: 59.38% Generator_loss: 0.828617\n",
      "14500 Discriminator_loss: 0.578303 acc.: 68.75% Generator_loss: 0.877644\n",
      "15000 Discriminator_loss: 0.558888 acc.: 65.62% Generator_loss: 0.901193\n",
      "15500 Discriminator_loss: 0.678875 acc.: 53.12% Generator_loss: 0.843380\n",
      "16000 Discriminator_loss: 0.613627 acc.: 56.25% Generator_loss: 0.863954\n",
      "16500 Discriminator_loss: 0.634695 acc.: 56.25% Generator_loss: 0.974870\n",
      "17000 Discriminator_loss: 0.581244 acc.: 71.88% Generator_loss: 0.848383\n",
      "17500 Discriminator_loss: 0.585142 acc.: 65.62% Generator_loss: 0.909230\n",
      "18000 Discriminator_loss: 0.593112 acc.: 59.38% Generator_loss: 0.884056\n",
      "18500 Discriminator_loss: 0.652288 acc.: 56.25% Generator_loss: 0.890073\n",
      "19000 Discriminator_loss: 0.669418 acc.: 56.25% Generator_loss: 0.784767\n",
      "19500 Discriminator_loss: 0.612516 acc.: 59.38% Generator_loss: 0.863275\n",
      "20000 Discriminator_loss: 0.642427 acc.: 56.25% Generator_loss: 0.886908\n",
      "20500 Discriminator_loss: 0.519233 acc.: 75.00% Generator_loss: 0.755072\n",
      "21000 Discriminator_loss: 0.570900 acc.: 65.62% Generator_loss: 0.825807\n",
      "21500 Discriminator_loss: 0.615385 acc.: 59.38% Generator_loss: 0.852971\n",
      "22000 Discriminator_loss: 0.661016 acc.: 59.38% Generator_loss: 0.823913\n",
      "22500 Discriminator_loss: 0.591136 acc.: 65.62% Generator_loss: 0.824956\n",
      "23000 Discriminator_loss: 0.515991 acc.: 65.62% Generator_loss: 0.858964\n",
      "23500 Discriminator_loss: 0.597500 acc.: 62.50% Generator_loss: 0.930523\n",
      "24000 Discriminator_loss: 0.587862 acc.: 62.50% Generator_loss: 0.828057\n",
      "24500 Discriminator_loss: 0.640364 acc.: 53.12% Generator_loss: 0.868607\n",
      "25000 Discriminator_loss: 0.602368 acc.: 59.38% Generator_loss: 0.952414\n",
      "25500 Discriminator_loss: 0.650746 acc.: 59.38% Generator_loss: 0.813326\n",
      "26000 Discriminator_loss: 0.586246 acc.: 62.50% Generator_loss: 0.828626\n",
      "26500 Discriminator_loss: 0.633386 acc.: 59.38% Generator_loss: 0.796200\n",
      "27000 Discriminator_loss: 0.597878 acc.: 56.25% Generator_loss: 0.949582\n",
      "27500 Discriminator_loss: 0.618675 acc.: 68.75% Generator_loss: 0.852155\n",
      "28000 Discriminator_loss: 0.438612 acc.: 78.12% Generator_loss: 0.913414\n",
      "28500 Discriminator_loss: 0.644915 acc.: 59.38% Generator_loss: 0.837539\n",
      "29000 Discriminator_loss: 0.519571 acc.: 75.00% Generator_loss: 0.845946\n",
      "29500 Discriminator_loss: 0.616438 acc.: 59.38% Generator_loss: 0.890244\n",
      "30000 Discriminator_loss: 0.602304 acc.: 62.50% Generator_loss: 0.885755\n",
      "30500 Discriminator_loss: 0.670574 acc.: 56.25% Generator_loss: 0.947349\n",
      "31000 Discriminator_loss: 0.563800 acc.: 62.50% Generator_loss: 0.977229\n",
      "31500 Discriminator_loss: 0.579849 acc.: 65.62% Generator_loss: 0.829719\n",
      "32000 Discriminator_loss: 0.598173 acc.: 65.62% Generator_loss: 0.832120\n",
      "32500 Discriminator_loss: 0.651839 acc.: 59.38% Generator_loss: 0.872805\n",
      "33000 Discriminator_loss: 0.597725 acc.: 62.50% Generator_loss: 0.809966\n",
      "33500 Discriminator_loss: 0.666428 acc.: 56.25% Generator_loss: 0.903985\n",
      "34000 Discriminator_loss: 0.696174 acc.: 50.00% Generator_loss: 0.884707\n",
      "34500 Discriminator_loss: 0.628215 acc.: 62.50% Generator_loss: 0.822859\n",
      "35000 Discriminator_loss: 0.593286 acc.: 62.50% Generator_loss: 0.811821\n",
      "35500 Discriminator_loss: 0.732223 acc.: 46.88% Generator_loss: 0.898690\n",
      "36000 Discriminator_loss: 0.648199 acc.: 62.50% Generator_loss: 0.838868\n",
      "36500 Discriminator_loss: 0.568545 acc.: 65.62% Generator_loss: 0.896178\n",
      "37000 Discriminator_loss: 0.635588 acc.: 59.38% Generator_loss: 0.930495\n",
      "37500 Discriminator_loss: 0.570424 acc.: 65.62% Generator_loss: 0.874484\n",
      "38000 Discriminator_loss: 0.667694 acc.: 56.25% Generator_loss: 0.854942\n",
      "38500 Discriminator_loss: 0.548349 acc.: 68.75% Generator_loss: 0.881478\n",
      "39000 Discriminator_loss: 0.626346 acc.: 62.50% Generator_loss: 0.878089\n",
      "39500 Discriminator_loss: 0.666631 acc.: 56.25% Generator_loss: 0.893574\n",
      "40000 Discriminator_loss: 0.483247 acc.: 81.25% Generator_loss: 0.967521\n",
      "40500 Discriminator_loss: 0.595696 acc.: 68.75% Generator_loss: 0.859824\n",
      "41000 Discriminator_loss: 0.555774 acc.: 68.75% Generator_loss: 0.938119\n",
      "41500 Discriminator_loss: 0.537177 acc.: 75.00% Generator_loss: 0.839030\n",
      "42000 Discriminator_loss: 0.670602 acc.: 56.25% Generator_loss: 0.901785\n",
      "42500 Discriminator_loss: 0.696090 acc.: 53.12% Generator_loss: 0.989343\n",
      "43000 Discriminator_loss: 0.580976 acc.: 62.50% Generator_loss: 0.836486\n",
      "43500 Discriminator_loss: 0.487934 acc.: 71.88% Generator_loss: 0.996957\n"
     ]
    }
   ],
   "source": [
    "#Train!!!\n",
    "train(X, epochs_inicial=0, epochs=100001, batch_size=32, save_interval=500)"
   ]
  },
  {
   "cell_type": "code",
   "execution_count": null,
   "metadata": {},
   "outputs": [],
   "source": [
    "#Guardado de datos!!!\n",
    "\n",
    "#Cuendo termina el entrenamiento se guardan en un df\n",
    "df = pd.DataFrame()\n",
    "df['itr'] = itr_list\n",
    "df['acc'] = acc_list\n",
    "df['d_loss'] = d_loss_list\n",
    "df['g_loss'] = g_loss_list\n",
    "#df['w_distance'] = wasserstein_distance_list\n",
    "#df['fid'] = fid_list\n",
    "df.to_csv('results.csv', index=False)    \n",
    "\n",
    "generator.save_weights('generator_64_64_weigths.h5')\n",
    "discriminator.save_weights('discriminator_64_64_weigths.h5')\n",
    "combined.save_weights('combined_64_64_weigths.h5')"
   ]
  },
  {
   "cell_type": "markdown",
   "metadata": {},
   "source": [
    "### Entrenamiento desde un punto especifico"
   ]
  },
  {
   "cell_type": "code",
   "execution_count": 37,
   "metadata": {},
   "outputs": [],
   "source": [
    "Data = pd.read_csv('results.csv')\n",
    "itr_list = list(Data.itr)\n",
    "acc_list = list(Data.acc)\n",
    "d_loss_list = list(Data.d_loss)\n",
    "g_loss_list = list(Data.g_loss)\n",
    "#wasserstein_distance_list = list(Data.w_distance)\n",
    "#fid_list = list(Data.fid)"
   ]
  },
  {
   "cell_type": "code",
   "execution_count": 21,
   "metadata": {},
   "outputs": [
    {
     "data": {
      "text/plain": [
       "80000"
      ]
     },
     "execution_count": 21,
     "metadata": {},
     "output_type": "execute_result"
    }
   ],
   "source": [
    "#Imprime la ultima iteracion guardada\n",
    "itr_list[-1]"
   ]
  },
  {
   "cell_type": "code",
   "execution_count": 15,
   "metadata": {
    "collapsed": true,
    "jupyter": {
     "outputs_hidden": true
    }
   },
   "outputs": [
    {
     "name": "stdout",
     "output_type": "stream",
     "text": [
      "Model: \"sequential_1\"\n",
      "_________________________________________________________________\n",
      "Layer (type)                 Output Shape              Param #   \n",
      "=================================================================\n",
      "conv2d_95 (Conv2D)           (None, 64, 64, 32)        896       \n",
      "_________________________________________________________________\n",
      "activation_95 (Activation)   (None, 64, 64, 32)        0         \n",
      "_________________________________________________________________\n",
      "conv2d_96 (Conv2D)           (None, 62, 62, 32)        9248      \n",
      "_________________________________________________________________\n",
      "activation_96 (Activation)   (None, 62, 62, 32)        0         \n",
      "_________________________________________________________________\n",
      "max_pooling2d_5 (MaxPooling2 (None, 31, 31, 32)        0         \n",
      "_________________________________________________________________\n",
      "dropout_1 (Dropout)          (None, 31, 31, 32)        0         \n",
      "_________________________________________________________________\n",
      "conv2d_97 (Conv2D)           (None, 31, 31, 64)        18496     \n",
      "_________________________________________________________________\n",
      "activation_97 (Activation)   (None, 31, 31, 64)        0         \n",
      "_________________________________________________________________\n",
      "conv2d_98 (Conv2D)           (None, 29, 29, 64)        36928     \n",
      "_________________________________________________________________\n",
      "activation_98 (Activation)   (None, 29, 29, 64)        0         \n",
      "_________________________________________________________________\n",
      "max_pooling2d_6 (MaxPooling2 (None, 14, 14, 64)        0         \n",
      "_________________________________________________________________\n",
      "dropout_2 (Dropout)          (None, 14, 14, 64)        0         \n",
      "_________________________________________________________________\n",
      "flatten_1 (Flatten)          (None, 12544)             0         \n",
      "_________________________________________________________________\n",
      "dense_1 (Dense)              (None, 512)               6423040   \n",
      "_________________________________________________________________\n",
      "activation_99 (Activation)   (None, 512)               0         \n",
      "_________________________________________________________________\n",
      "dropout_3 (Dropout)          (None, 512)               0         \n",
      "_________________________________________________________________\n",
      "dense_2 (Dense)              (None, 1)                 513       \n",
      "=================================================================\n",
      "Total params: 6,489,121\n",
      "Trainable params: 6,489,121\n",
      "Non-trainable params: 0\n",
      "_________________________________________________________________\n",
      "Model: \"sequential_2\"\n",
      "_________________________________________________________________\n",
      "Layer (type)                 Output Shape              Param #   \n",
      "=================================================================\n",
      "dense_3 (Dense)              (None, 256)               25856     \n",
      "_________________________________________________________________\n",
      "reshape_1 (Reshape)          (None, 2, 2, 64)          0         \n",
      "_________________________________________________________________\n",
      "batch_normalization_95 (Batc (None, 2, 2, 64)          256       \n",
      "_________________________________________________________________\n",
      "up_sampling2d_1 (UpSampling2 (None, 4, 4, 64)          0         \n",
      "_________________________________________________________________\n",
      "conv2d_99 (Conv2D)           (None, 4, 4, 1024)        590848    \n",
      "_________________________________________________________________\n",
      "activation_100 (Activation)  (None, 4, 4, 1024)        0         \n",
      "_________________________________________________________________\n",
      "batch_normalization_96 (Batc (None, 4, 4, 1024)        4096      \n",
      "_________________________________________________________________\n",
      "up_sampling2d_2 (UpSampling2 (None, 8, 8, 1024)        0         \n",
      "_________________________________________________________________\n",
      "conv2d_100 (Conv2D)          (None, 8, 8, 512)         4719104   \n",
      "_________________________________________________________________\n",
      "activation_101 (Activation)  (None, 8, 8, 512)         0         \n",
      "_________________________________________________________________\n",
      "batch_normalization_97 (Batc (None, 8, 8, 512)         2048      \n",
      "_________________________________________________________________\n",
      "up_sampling2d_3 (UpSampling2 (None, 16, 16, 512)       0         \n",
      "_________________________________________________________________\n",
      "conv2d_101 (Conv2D)          (None, 16, 16, 256)       1179904   \n",
      "_________________________________________________________________\n",
      "activation_102 (Activation)  (None, 16, 16, 256)       0         \n",
      "_________________________________________________________________\n",
      "batch_normalization_98 (Batc (None, 16, 16, 256)       1024      \n",
      "_________________________________________________________________\n",
      "up_sampling2d_4 (UpSampling2 (None, 32, 32, 256)       0         \n",
      "_________________________________________________________________\n",
      "conv2d_102 (Conv2D)          (None, 32, 32, 128)       295040    \n",
      "_________________________________________________________________\n",
      "activation_103 (Activation)  (None, 32, 32, 128)       0         \n",
      "_________________________________________________________________\n",
      "batch_normalization_99 (Batc (None, 32, 32, 128)       512       \n",
      "_________________________________________________________________\n",
      "up_sampling2d_5 (UpSampling2 (None, 64, 64, 128)       0         \n",
      "_________________________________________________________________\n",
      "conv2d_103 (Conv2D)          (None, 64, 64, 64)        73792     \n",
      "_________________________________________________________________\n",
      "activation_104 (Activation)  (None, 64, 64, 64)        0         \n",
      "_________________________________________________________________\n",
      "batch_normalization_100 (Bat (None, 64, 64, 64)        256       \n",
      "_________________________________________________________________\n",
      "conv2d_104 (Conv2D)          (None, 64, 64, 3)         1731      \n",
      "_________________________________________________________________\n",
      "activation_105 (Activation)  (None, 64, 64, 3)         0         \n",
      "_________________________________________________________________\n",
      "reshape_2 (Reshape)          (None, 64, 64, 3)         0         \n",
      "=================================================================\n",
      "Total params: 6,894,467\n",
      "Trainable params: 6,890,371\n",
      "Non-trainable params: 4,096\n",
      "_________________________________________________________________\n"
     ]
    }
   ],
   "source": [
    "optimizer = Adam(0.0002, 0.5)\n",
    "\n",
    "# Build and compile the discriminator\n",
    "discriminator = build_discriminator()\n",
    "discriminator.load_weights('discriminator_64_64_weigths.h5') #Load pesos\n",
    "discriminator.compile(loss='binary_crossentropy', optimizer=optimizer, metrics=['accuracy'])\n",
    "\n",
    "# Build the generator\n",
    "generator = build_generator()\n",
    "generator.load_weights('generator_64_64_weigths.h5') #Load pesos\n",
    "generator.compile(loss='binary_crossentropy', optimizer=optimizer)\n",
    "\n",
    "# The generator takes noise as input and generates imgs\n",
    "z = Input(shape=(latent_dim,))\n",
    "img = generator(z)\n",
    "\n",
    "# For the combined model we will only train the generator\n",
    "discriminator.trainable = False\n",
    "\n",
    "# The discriminator takes generated images as input and determines validity\n",
    "valid = discriminator(img)\n",
    "\n",
    "# The combined model  (stacked generator and discriminator)\n",
    "# Trains the generator to fool the discriminator\n",
    "combined = Model(z, valid)\n",
    "combined.compile(loss='binary_crossentropy', optimizer=optimizer)"
   ]
  },
  {
   "cell_type": "code",
   "execution_count": 16,
   "metadata": {},
   "outputs": [
    {
     "data": {
      "image/png": "[encoded data removed]",
      "text/plain": [
       "<Figure size 936x504 with 4 Axes>"
      ]
     },
     "metadata": {
      "needs_background": "light"
     },
     "output_type": "display_data"
    }
   ],
   "source": [
    "train(X, epochs_inicial= 37375, epochs=40001, batch_size=32, save_interval=500)"
   ]
  },
  {
   "cell_type": "code",
   "execution_count": null,
   "metadata": {},
   "outputs": [],
   "source": [
    "#Guardado de datos!!!\n",
    "\n",
    "#Cuendo termina el entrenamiento se guardan en un df\n",
    "df = pd.DataFrame()\n",
    "df['itr'] = itr_list\n",
    "df['acc'] = acc_list\n",
    "df['d_loss'] = d_loss_list\n",
    "df['g_loss'] = g_loss_list\n",
    "#df['w_distance'] = wasserstein_distance_list\n",
    "#df['fid'] = fid_list\n",
    "df.to_csv('results.csv', index=False)    \n",
    "\n",
    "generator.save_weights('generator_64_64_weigths.h5')\n",
    "discriminator.save_weights('discriminator_64_64_weigths.h5')\n",
    "combined.save_weights('combined_64_64_weigths.h5')"
   ]
  },
  {
   "cell_type": "markdown",
   "metadata": {},
   "source": [
    "## Resultados"
   ]
  },
  {
   "cell_type": "code",
   "execution_count": null,
   "metadata": {},
   "outputs": [],
   "source": [
    "Data = pd.read_csv('results.csv')\n",
    "itr_list = list(Data.itr)\n",
    "acc_list = list(Data.acc)\n",
    "d_loss_list = list(Data.d_loss)\n",
    "g_loss_list = list(Data.g_loss)\n",
    "#wasserstein_distance_list = list(Data.w_distance)\n",
    "#fid_list = list(Data.fid)"
   ]
  },
  {
   "cell_type": "code",
   "execution_count": 61,
   "metadata": {},
   "outputs": [
    {
     "data": {
      "text/plain": [
       "<matplotlib.legend.Legend at 0x254239b2cc8>"
      ]
     },
     "execution_count": 61,
     "metadata": {},
     "output_type": "execute_result"
    },
    {
     "data": {
      "image/png": "[encoded data removed]",
      "text/plain": [
       "<Figure size 936x504 with 4 Axes>"
      ]
     },
     "metadata": {
      "needs_background": "light"
     },
     "output_type": "display_data"
    }
   ],
   "source": [
    "#f, (ax1, ax2, ax3, ax4) = plt.subplots(4, 1, sharex='col', figsize=(13,7))\n",
    "f, (ax1, ax4) = plt.subplots(2, 1, sharex='col', figsize=(13,7))\n",
    "\n",
    "ax1.plot(itr_list, d_loss_list, label = \"Discriminator Loss\")\n",
    "ax1.plot(itr_list, g_loss_list, label = \"Generator Loss\")\n",
    "ax1.legend()\n",
    "\n",
    "#\n",
    "#ax2.plot(itr_list, wasserstein_distance_list, '-b', label = \"Wasserstein Distance\")\n",
    "#ax2.legend()\n",
    "\n",
    "#\n",
    "#ax3.plot(itr_list, fid_list, '-g', label = \"Frechet Inception Distance\")\n",
    "#ax3.legend()\n",
    "\n",
    "# Create two subplots and unpack the output array immediately\n",
    "ax4.plot(itr_list, acc_list, '-r', label = \"Discriminator Accuracy\")\n",
    "ax4.legend()"
   ]
  },
  {
   "cell_type": "code",
   "execution_count": 13,
   "metadata": {},
   "outputs": [
    {
     "data": {
      "image/png": "[encoded data removed]",
      "text/plain": [
       "<PIL.PngImagePlugin.PngImageFile image mode=RGBA size=64x64 at 0x2C73578B248>"
      ]
     },
     "metadata": {},
     "output_type": "display_data"
    }
   ],
   "source": [
    "from IPython.display import display\n",
    "from PIL import Image\n",
    "\n",
    "path=\"ResultadosCafe/mnist_0.png\"\n",
    "display(Image.open(path))"
   ]
  },
  {
   "cell_type": "code",
   "execution_count": 12,
   "metadata": {},
   "outputs": [
    {
     "data": {
      "image/png": "[encoded data removed]",
      "text/plain": [
       "<PIL.PngImagePlugin.PngImageFile image mode=RGBA size=64x64 at 0x2C6285B7D88>"
      ]
     },
     "metadata": {},
     "output_type": "display_data"
    }
   ],
   "source": [
    "from IPython.display import display\n",
    "from PIL import Image\n",
    "\n",
    "path=\"ResultadosCafe/mnist_40000.png\"\n",
    "display(Image.open(path))"
   ]
  },
  {
   "cell_type": "markdown",
   "metadata": {},
   "source": [
    "## Test con pesos guardados"
   ]
  },
  {
   "cell_type": "code",
   "execution_count": 7,
   "metadata": {},
   "outputs": [
    {
     "name": "stdout",
     "output_type": "stream",
     "text": [
      "Model: \"sequential_1\"\n",
      "_________________________________________________________________\n",
      "Layer (type)                 Output Shape              Param #   \n",
      "=================================================================\n",
      "dense_1 (Dense)              (None, 256)               25856     \n",
      "_________________________________________________________________\n",
      "reshape_1 (Reshape)          (None, 2, 2, 64)          0         \n",
      "_________________________________________________________________\n",
      "batch_normalization_1 (Batch (None, 2, 2, 64)          256       \n",
      "_________________________________________________________________\n",
      "up_sampling2d_1 (UpSampling2 (None, 4, 4, 64)          0         \n",
      "_________________________________________________________________\n",
      "conv2d_1 (Conv2D)            (None, 4, 4, 1024)        590848    \n",
      "_________________________________________________________________\n",
      "activation_1 (Activation)    (None, 4, 4, 1024)        0         \n",
      "_________________________________________________________________\n",
      "batch_normalization_2 (Batch (None, 4, 4, 1024)        4096      \n",
      "_________________________________________________________________\n",
      "up_sampling2d_2 (UpSampling2 (None, 8, 8, 1024)        0         \n",
      "_________________________________________________________________\n",
      "conv2d_2 (Conv2D)            (None, 8, 8, 512)         4719104   \n",
      "_________________________________________________________________\n",
      "activation_2 (Activation)    (None, 8, 8, 512)         0         \n",
      "_________________________________________________________________\n",
      "batch_normalization_3 (Batch (None, 8, 8, 512)         2048      \n",
      "_________________________________________________________________\n",
      "up_sampling2d_3 (UpSampling2 (None, 16, 16, 512)       0         \n",
      "_________________________________________________________________\n",
      "conv2d_3 (Conv2D)            (None, 16, 16, 256)       1179904   \n",
      "_________________________________________________________________\n",
      "activation_3 (Activation)    (None, 16, 16, 256)       0         \n",
      "_________________________________________________________________\n",
      "batch_normalization_4 (Batch (None, 16, 16, 256)       1024      \n",
      "_________________________________________________________________\n",
      "up_sampling2d_4 (UpSampling2 (None, 32, 32, 256)       0         \n",
      "_________________________________________________________________\n",
      "conv2d_4 (Conv2D)            (None, 32, 32, 128)       295040    \n",
      "_________________________________________________________________\n",
      "activation_4 (Activation)    (None, 32, 32, 128)       0         \n",
      "_________________________________________________________________\n",
      "batch_normalization_5 (Batch (None, 32, 32, 128)       512       \n",
      "_________________________________________________________________\n",
      "up_sampling2d_5 (UpSampling2 (None, 64, 64, 128)       0         \n",
      "_________________________________________________________________\n",
      "conv2d_5 (Conv2D)            (None, 64, 64, 64)        73792     \n",
      "_________________________________________________________________\n",
      "activation_5 (Activation)    (None, 64, 64, 64)        0         \n",
      "_________________________________________________________________\n",
      "batch_normalization_6 (Batch (None, 64, 64, 64)        256       \n",
      "_________________________________________________________________\n",
      "conv2d_6 (Conv2D)            (None, 64, 64, 3)         1731      \n",
      "_________________________________________________________________\n",
      "activation_6 (Activation)    (None, 64, 64, 3)         0         \n",
      "_________________________________________________________________\n",
      "reshape_2 (Reshape)          (None, 64, 64, 3)         0         \n",
      "=================================================================\n",
      "Total params: 6,894,467\n",
      "Trainable params: 6,890,371\n",
      "Non-trainable params: 4,096\n",
      "_________________________________________________________________\n"
     ]
    }
   ],
   "source": [
    "optimizer = Adam(0.0002, 0.5)\n",
    "\n",
    "new_model = build_generator()\n",
    "new_model.compile(loss='binary_crossentropy', optimizer=optimizer)\n",
    "\n",
    "new_model.load_weights('generator_64_64_weigths.h5')"
   ]
  },
  {
   "cell_type": "code",
   "execution_count": 11,
   "metadata": {},
   "outputs": [
    {
     "data": {
      "image/png": "[encoded data removed]",
      "text/plain": [
       "<Figure size 432x288 with 1 Axes>"
      ]
     },
     "metadata": {
      "needs_background": "light"
     },
     "output_type": "display_data"
    }
   ],
   "source": [
    "noise = np.random.normal(0, 1, (1,latent_dim))\n",
    "gen_imgs = new_model.predict(noise)\n",
    "\n",
    "gen_imgs2 = abs(gen_imgs)\n",
    "\n",
    "plt.imshow((gen_imgs2[0] * 255).astype(int))\n",
    "plt.show()"
   ]
  },
  {
   "cell_type": "code",
   "execution_count": 20,
   "metadata": {},
   "outputs": [
    {
     "data": {
      "image/png": "[encoded data removed]",
      "text/plain": [
       "<Figure size 432x288 with 1 Axes>"
      ]
     },
     "metadata": {
      "needs_background": "light"
     },
     "output_type": "display_data"
    }
   ],
   "source": [
    "a = cv2.imread('./source/trainingSet/trainingCoffee/000004.jpg')\n",
    "a = cv2.cvtColor(a, cv2.COLOR_BGR2RGB)\n",
    "plt.imshow(a)\n",
    "plt.show()"
   ]
  }
 ],
 "metadata": {
  "kernelspec": {
   "display_name": "gpu2",
   "language": "python",
   "name": "gpu2"
  },
  "language_info": {
   "codemirror_mode": {
    "name": "ipython",
    "version": 3
   },
   "file_extension": ".py",
   "mimetype": "text/x-python",
   "name": "python",
   "nbconvert_exporter": "python",
   "pygments_lexer": "ipython3",
   "version": "3.7.7"
  }
 },
 "nbformat": 4,
 "nbformat_minor": 4
}
