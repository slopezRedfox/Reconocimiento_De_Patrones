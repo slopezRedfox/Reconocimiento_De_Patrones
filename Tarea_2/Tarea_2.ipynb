{
 "cells": [
  {
   "cell_type": "markdown",
   "metadata": {},
   "source": [
    "# Análisis de métodos de predicción"
   ]
  },
  {
   "cell_type": "markdown",
   "metadata": {},
   "source": [
    "## Tarea 2\n",
    "**Alumno: Santiago López Rojas** /\n",
    "**Curso: Reconocimiento de patrones**\n",
    "    \n",
    "Objetivos:\n",
    "* Explicación de uso de corss-validation.\n",
    "* Lectura y acomodo del set de datos para procesamiento.\n",
    "* Aplicación de 7 métodos de predicción.\n",
    "* Analizar todas las estrategias y determinar la mejor para el caso de estudio.\n",
    "\n",
    "Se usan los siguientes algoritmos de predicción:\n",
    "1. Logistic Regression\n",
    "2. k Nearest Neighbors\n",
    "3. SVC\n",
    "4. Naive Bayes\n",
    "5. Decision Trees\n",
    "6. \n",
    "7. \n",
    "\n",
    "    "
   ]
  },
  {
   "cell_type": "markdown",
   "metadata": {},
   "source": [
    "## Librerias"
   ]
  },
  {
   "cell_type": "code",
   "execution_count": 4,
   "metadata": {},
   "outputs": [],
   "source": [
    "#Se inicia por importar las bibliotecas necesarias para manejo de datos \n",
    "#(como pandas, numpy y statistics), bibliotecas para imprimir resultados \n",
    "#en pantalla (como matplotlib) y bibliotecas que contienen los algoritmos \n",
    "#de predicción (sklearn)\n",
    "\n",
    "import numpy as np\n",
    "import pandas as pd\n",
    "import seaborn as sns\n",
    "#pytorch usa tensores, y esta es la mayor diferencia\n",
    "import torch\n",
    "from statistics import mean, median\n",
    "from matplotlib import pyplot as plt\n",
    "from matplotlib.ticker import PercentFormatter\n",
    "from sklearn.datasets  import make_blobs\n",
    "\n",
    "from sklearn.datasets import load_breast_cancer\n",
    "from sklearn.model_selection import train_test_split\n",
    "from sklearn.neighbors import KNeighborsClassifier\n",
    "from sklearn import metrics\n",
    "%matplotlib inline"
   ]
  },
  {
   "cell_type": "markdown",
   "metadata": {},
   "source": [
    "## Cross-Validation"
   ]
  },
  {
   "cell_type": "code",
   "execution_count": 5,
   "metadata": {},
   "outputs": [],
   "source": [
    "from sklearn.datasets import load_iris\n",
    "from sklearn.model_selection import KFold"
   ]
  },
  {
   "cell_type": "markdown",
   "metadata": {},
   "source": [
    "### ¿Por qué usar cross-validation?\n",
    "\n",
    "Cuando se divide el set de datos en *Train* y en *Test* los resultados del entrenamiento van a depender de como fueron constituidos estos sets. Esto se puede ejemplificar con el siguiente ejemplo usando el set de datos de sklearn *load_iris*"
   ]
  },
  {
   "cell_type": "code",
   "execution_count": 6,
   "metadata": {},
   "outputs": [
    {
     "name": "stdout",
     "output_type": "stream",
     "text": [
      "Porsentaje de accuracy: 0.9473684210526315\n"
     ]
    }
   ],
   "source": [
    "#Se lee el set Iris de datos\n",
    "iris = load_iris()\n",
    "\n",
    "# Se crea los sets de datos X (feature) y Y (Response). \n",
    "X = iris.data\n",
    "Y = iris.target\n",
    "\n",
    "# Se usa el comando \"train_test_split\" para dividir entre set de entrenamineto\n",
    "#y set de test\n",
    "X_train, X_test, y_train, y_test = train_test_split(X, Y)\n",
    "\n",
    "# Se chequea la precision usando un algoritmo KNN (se explica mas adelante)\n",
    "# Se define el modelo con 5 neigbors solo para ejemplificar\n",
    "knn = KNeighborsClassifier(n_neighbors=5)\n",
    "\n",
    "# Se entrena el modelo\n",
    "knn.fit(X_train, y_train)\n",
    "\n",
    "# Se realiza una prediccion usando el set de test y se imprime el resultado\n",
    "y_pred = knn.predict(X_test)\n",
    "print(\"Porsentaje de accuracy:\", metrics.accuracy_score(y_test, y_pred))"
   ]
  },
  {
   "cell_type": "code",
   "execution_count": 7,
   "metadata": {},
   "outputs": [
    {
     "name": "stdout",
     "output_type": "stream",
     "text": [
      "Porsentaje de accuracy: 0.9736842105263158\n"
     ]
    }
   ],
   "source": [
    "#Ahora si se corre otra vez el split y el entrenamiento\n",
    "\n",
    "X_train, X_test, y_train, y_test = train_test_split(X, Y)\n",
    "knn = KNeighborsClassifier(n_neighbors=5)\n",
    "knn.fit(X_train, y_train)\n",
    "\n",
    "y_pred = knn.predict(X_test)\n",
    "print(\"Porsentaje de accuracy:\", metrics.accuracy_score(y_test, y_pred))"
   ]
  },
  {
   "cell_type": "markdown",
   "metadata": {},
   "source": [
    "### Resultados\n",
    "\n",
    "Como se ve, se tendrá un resultado diferente aunque estemos usando las mismas líneas de código. Esto es por que el entrenamiento depende directamente del set de Train, si este cambia, los paramentros que se modifican en el entrenamiento se verán modificados también. \n",
    "\n",
    "Entonces, **¿Cómo solucionar esto?** ¿Cómo saber si el modelo es bueno o si es solamente un resultado aislado de un set de Train/Test particular? Para esto se usa el *Cross-validation*.\n",
    "\n",
    "A grandes razgos el proceso lo que hace es ejecutar varias veces el proceso de *train_test_split* variando siempre cuales son los datos de test y train, pondera los resultados y saca una varianza. Ahora, existen muchos tipos de *Cross-validation* siendo el más común el *K-fold*"
   ]
  },
  {
   "cell_type": "markdown",
   "metadata": {},
   "source": [
    "### Pasos para el uso de k-flod corss-validation\n",
    "\n",
    "1. Dividir el dataset en K particiones **iguales** (conocidos como \"folds\").\n",
    "2. Usar *fold* 1 como **Test** y la unión de los otros *flods* **Train**.\n",
    "3. Calcular el **testing accuracy**.\n",
    "4. Repetir los pasos 2 y 3 K veces, usando **diferentes fold** como **Test** en cada ocasión.\n",
    "5. Usar el **testing accuracy promedio** como el resultado final.\n",
    "\n",
    "En la siguiente figura se ejemplifica mejor:\n",
    "\n",
    "![07_cross_validation_diagram](images/07_cross_validation_diagram.png)"
   ]
  },
  {
   "cell_type": "code",
   "execution_count": 8,
   "metadata": {},
   "outputs": [
    {
     "name": "stdout",
     "output_type": "stream",
     "text": [
      "Iteration                   Training set observations                   Testing set observations\n",
      "    1     [ 5  6  7  8  9 10 11 12 13 14 15 16 17 18 19 20 21 22 23 24]        [0 1 2 3 4]       \n",
      "    2     [ 0  1  2  3  4 10 11 12 13 14 15 16 17 18 19 20 21 22 23 24]        [5 6 7 8 9]       \n",
      "    3     [ 0  1  2  3  4  5  6  7  8  9 15 16 17 18 19 20 21 22 23 24]     [10 11 12 13 14]     \n",
      "    4     [ 0  1  2  3  4  5  6  7  8  9 10 11 12 13 14 20 21 22 23 24]     [15 16 17 18 19]     \n",
      "    5     [ 0  1  2  3  4  5  6  7  8  9 10 11 12 13 14 15 16 17 18 19]     [20 21 22 23 24]     \n"
     ]
    }
   ],
   "source": [
    "#Para seguir con la explicació se usa el siguiente código\n",
    "\n",
    "#Se define un set de que se divide en 5 folds, se le indica que no desordene los datos\n",
    "#(shuffle=False)\n",
    "kf = KFold(n_splits=5, shuffle=False).split(range(25))\n",
    "\n",
    "# Imprimimos el resultado de la división\n",
    "print('{} {:^61} {}'.format('Iteration', 'Training set observations', 'Testing set observations'))\n",
    "\n",
    "for iteration, data in enumerate(kf, start=1):\n",
    "    print('{:^9} {} {:^25}'.format(iteration, data[0], str(data[1])))"
   ]
  },
  {
   "cell_type": "markdown",
   "metadata": {},
   "source": [
    "### ¿Otras aplicaciones?\n",
    "\n",
    "Otra utilidad de usar Cross-Validation es para el momento del *hiper-parameter tuning*, ayudando a determinar los mejores hiper-paramentros para usar en el modelo según sea el algoritmo que se esta empleando. Para demostrar esto usaremos el set de datos load_iris del ejemplo anterior."
   ]
  },
  {
   "cell_type": "code",
   "execution_count": 9,
   "metadata": {},
   "outputs": [],
   "source": [
    "#Se incluye la funcion cross_val_score que nos ayuda para hacer la cross-validation\n",
    "from sklearn.model_selection import cross_val_score"
   ]
  },
  {
   "cell_type": "code",
   "execution_count": 10,
   "metadata": {},
   "outputs": [
    {
     "name": "stdout",
     "output_type": "stream",
     "text": [
      "[1.         0.93333333 1.         1.         0.86666667 0.93333333\n",
      " 0.93333333 1.         1.         1.        ]\n"
     ]
    }
   ],
   "source": [
    "# Se hace un 10-fold cross-validation con un K=5 para el KNN (este es el hiper-parametro del KNN)\n",
    "knn = KNeighborsClassifier(n_neighbors=5)\n",
    "\n",
    "# scores  -> nos da el resultado de la metrica para cada fold \n",
    "# knn     -> es el modelo que se esta testeando\n",
    "# X       -> Features sin dividir\n",
    "# Y       -> Targets sin dividir\n",
    "# cv      -> cantidad de folds que se desean\n",
    "# scoring -> tipo de metrica que se desea obtener\n",
    "scores = cross_val_score(knn, X, Y, cv=10, scoring='accuracy')\n",
    "print(scores)"
   ]
  },
  {
   "cell_type": "code",
   "execution_count": 11,
   "metadata": {},
   "outputs": [
    {
     "name": "stdout",
     "output_type": "stream",
     "text": [
      "0.9666666666666668\n"
     ]
    }
   ],
   "source": [
    "#scores posee la funcion mean() que nos da el promedio\n",
    "print(scores.mean())"
   ]
  },
  {
   "cell_type": "code",
   "execution_count": 12,
   "metadata": {},
   "outputs": [
    {
     "data": {
      "text/plain": [
       "Text(0, 0.5, 'Cross-Validated Accuracy')"
      ]
     },
     "execution_count": 12,
     "metadata": {},
     "output_type": "execute_result"
    },
    {
     "data": {
      "image/png": "[encoded data removed]",
      "text/plain": [
       "<Figure size 432x288 with 1 Axes>"
      ]
     },
     "metadata": {
      "needs_background": "light"
     },
     "output_type": "display_data"
    }
   ],
   "source": [
    "# Para saber cual es el mejor k para determinar un patron se obtiene usando un ciclo for\n",
    "# y lo ploteamos para ver graficamente los resultados.\n",
    "\n",
    "k_range = list(range(1, 50))\n",
    "k_scores = []\n",
    "for k in k_range:\n",
    "    knn = KNeighborsClassifier(n_neighbors=k)\n",
    "    scores = cross_val_score(knn, X, Y, cv=30, scoring='accuracy')\n",
    "    k_scores.append(scores.mean())\n",
    "\n",
    "#plot\n",
    "plt.plot(k_range, k_scores)\n",
    "plt.xlabel('Value of K for KNN')\n",
    "plt.ylabel('Cross-Validated Accuracy')"
   ]
  },
  {
   "cell_type": "code",
   "execution_count": 13,
   "metadata": {},
   "outputs": [
    {
     "data": {
      "text/plain": [
       "Text(0, 0.5, 'Cross-Validated Accuracy')"
      ]
     },
     "execution_count": 13,
     "metadata": {},
     "output_type": "execute_result"
    },
    {
     "data": {
      "image/png": "[encoded data removed]",
      "text/plain": [
       "<Figure size 432x288 with 1 Axes>"
      ]
     },
     "metadata": {
      "needs_background": "light"
     },
     "output_type": "display_data"
    }
   ],
   "source": [
    "# Para saber cual es el mejor k para determinar un patron se obtiene usando un ciclo for\n",
    "# y lo ploteamos para ver graficamente los resultados.\n",
    "\n",
    "k_range = list(range(1, 50))\n",
    "k_scores = []\n",
    "for k in k_range:\n",
    "    knn = KNeighborsClassifier(n_neighbors=k)\n",
    "    scores = cross_val_score(knn, X, Y, cv=20, scoring='accuracy')\n",
    "    k_scores.append(scores.mean())\n",
    "\n",
    "#plot\n",
    "plt.plot(k_range, k_scores)\n",
    "plt.xlabel('Value of K for KNN')\n",
    "plt.ylabel('Cross-Validated Accuracy')"
   ]
  },
  {
   "cell_type": "markdown",
   "metadata": {},
   "source": [
    "## Lectura y procesado de datos"
   ]
  },
  {
   "cell_type": "markdown",
   "metadata": {},
   "source": [
    "Para probar los algoritmos de clasificación se buscó un set de datos un poco más sencillo. Este se llama **\"\n",
    "Heart failure clinical records Data Set\"**. que se puede encontrar en: https://archive.ics.uci.edu/ml/datasets/Heart+failure+clinical+records\n",
    "\n",
    "Este set de datos contiene el historial médico de 299 pasientes que sufrieron un ataque cardiaco y sobrevivieron en primera instancia. Los datos fueron recolectados durante el periodo de recuperación (follow-up period) y se dividen en columnas de la siguiente manera:\n",
    "\n",
    "1. **age**: Edad del paciente al momento del inicio de la recuperación (en años).\n",
    "2. **anaemia**: Dato booleano, indica si el paciente tenía o no anemia (cuenta de globulos rojos).\n",
    "3. **creatinine_phosphokinase**: indica el nivel de CPK enzyme en la sangre (mcg/L).\n",
    "4. **diabetes**: Dato booleano, que indica si el paciente era diabetico.\n",
    "5. **ejection_fraction**: Porcentaje de sangre dejando el corazón cuando este se contrae (%).\n",
    "6. **high_blood_pressure**: Dato booleano, que indica si el paciente tenía presión alta.\n",
    "7. **platelets**: Cuenta de plaquetas del paciente (kiloplatelets/mL).\n",
    "8. **serum_creatinine**: Indica el nivel de serum creatinine en la sangre (mg/dL).\n",
    "9. **serum_sodium**: Indica el nivel de serum sodium en la sangre (mEq/L).\n",
    "10. **sex**: Masculino (0) y Femenino (1).\n",
    "11. **smoking**: Dato booleano, que indica si el paciente era fumador.\n",
    "12. **time**: Cantidad de días que se le dio como follow-up period al paciente.\n",
    "13. **DEATH_EVENT**: Dato booleano,  que indica si el paciente sobrevivió o no al tiempo de recuperación (TARGET)\n",
    "\n",
    "El objetivo del analicis es determinar si a partir de los datos de las primeras 12 columnas es posible predecir si un paciente va o no a sobrevivir el periodo de recuperación luego de sufrir un ataque cardiaco."
   ]
  },
  {
   "cell_type": "code",
   "execution_count": 32,
   "metadata": {},
   "outputs": [],
   "source": [
    "#Se importa la data de los pacientes en el data frame denominado \"data\"\n",
    "data = pd.read_csv(\"heart_failure_clinical_records_dataset.csv\")\n",
    "data = pd.DataFrame(data)"
   ]
  },
  {
   "cell_type": "code",
   "execution_count": 33,
   "metadata": {},
   "outputs": [
    {
     "data": {
      "text/html": [
       "<div>\n",
       "<style scoped>\n",
       "    .dataframe tbody tr th:only-of-type {\n",
       "        vertical-align: middle;\n",
       "    }\n",
       "\n",
       "    .dataframe tbody tr th {\n",
       "        vertical-align: top;\n",
       "    }\n",
       "\n",
       "    .dataframe thead th {\n",
       "        text-align: right;\n",
       "    }\n",
       "</style>\n",
       "<table border=\"1\" class=\"dataframe\">\n",
       "  <thead>\n",
       "    <tr style=\"text-align: right;\">\n",
       "      <th></th>\n",
       "      <th>age</th>\n",
       "      <th>anaemia</th>\n",
       "      <th>creatinine_phosphokinase</th>\n",
       "      <th>diabetes</th>\n",
       "      <th>ejection_fraction</th>\n",
       "      <th>high_blood_pressure</th>\n",
       "      <th>platelets</th>\n",
       "      <th>serum_creatinine</th>\n",
       "      <th>serum_sodium</th>\n",
       "      <th>sex</th>\n",
       "      <th>smoking</th>\n",
       "      <th>time</th>\n",
       "      <th>DEATH_EVENT</th>\n",
       "    </tr>\n",
       "  </thead>\n",
       "  <tbody>\n",
       "    <tr>\n",
       "      <th>0</th>\n",
       "      <td>75.0</td>\n",
       "      <td>0</td>\n",
       "      <td>582</td>\n",
       "      <td>0</td>\n",
       "      <td>20</td>\n",
       "      <td>1</td>\n",
       "      <td>265000.00</td>\n",
       "      <td>1.9</td>\n",
       "      <td>130</td>\n",
       "      <td>1</td>\n",
       "      <td>0</td>\n",
       "      <td>4</td>\n",
       "      <td>1</td>\n",
       "    </tr>\n",
       "    <tr>\n",
       "      <th>1</th>\n",
       "      <td>55.0</td>\n",
       "      <td>0</td>\n",
       "      <td>7861</td>\n",
       "      <td>0</td>\n",
       "      <td>38</td>\n",
       "      <td>0</td>\n",
       "      <td>263358.03</td>\n",
       "      <td>1.1</td>\n",
       "      <td>136</td>\n",
       "      <td>1</td>\n",
       "      <td>0</td>\n",
       "      <td>6</td>\n",
       "      <td>1</td>\n",
       "    </tr>\n",
       "    <tr>\n",
       "      <th>2</th>\n",
       "      <td>65.0</td>\n",
       "      <td>0</td>\n",
       "      <td>146</td>\n",
       "      <td>0</td>\n",
       "      <td>20</td>\n",
       "      <td>0</td>\n",
       "      <td>162000.00</td>\n",
       "      <td>1.3</td>\n",
       "      <td>129</td>\n",
       "      <td>1</td>\n",
       "      <td>1</td>\n",
       "      <td>7</td>\n",
       "      <td>1</td>\n",
       "    </tr>\n",
       "    <tr>\n",
       "      <th>3</th>\n",
       "      <td>50.0</td>\n",
       "      <td>1</td>\n",
       "      <td>111</td>\n",
       "      <td>0</td>\n",
       "      <td>20</td>\n",
       "      <td>0</td>\n",
       "      <td>210000.00</td>\n",
       "      <td>1.9</td>\n",
       "      <td>137</td>\n",
       "      <td>1</td>\n",
       "      <td>0</td>\n",
       "      <td>7</td>\n",
       "      <td>1</td>\n",
       "    </tr>\n",
       "    <tr>\n",
       "      <th>4</th>\n",
       "      <td>65.0</td>\n",
       "      <td>1</td>\n",
       "      <td>160</td>\n",
       "      <td>1</td>\n",
       "      <td>20</td>\n",
       "      <td>0</td>\n",
       "      <td>327000.00</td>\n",
       "      <td>2.7</td>\n",
       "      <td>116</td>\n",
       "      <td>0</td>\n",
       "      <td>0</td>\n",
       "      <td>8</td>\n",
       "      <td>1</td>\n",
       "    </tr>\n",
       "  </tbody>\n",
       "</table>\n",
       "</div>"
      ],
      "text/plain": [
       "    age  anaemia  creatinine_phosphokinase  diabetes  ejection_fraction  \\\n",
       "0  75.0        0                       582         0                 20   \n",
       "1  55.0        0                      7861         0                 38   \n",
       "2  65.0        0                       146         0                 20   \n",
       "3  50.0        1                       111         0                 20   \n",
       "4  65.0        1                       160         1                 20   \n",
       "\n",
       "   high_blood_pressure  platelets  serum_creatinine  serum_sodium  sex  \\\n",
       "0                    1  265000.00               1.9           130    1   \n",
       "1                    0  263358.03               1.1           136    1   \n",
       "2                    0  162000.00               1.3           129    1   \n",
       "3                    0  210000.00               1.9           137    1   \n",
       "4                    0  327000.00               2.7           116    0   \n",
       "\n",
       "   smoking  time  DEATH_EVENT  \n",
       "0        0     4            1  \n",
       "1        0     6            1  \n",
       "2        1     7            1  \n",
       "3        0     7            1  \n",
       "4        0     8            1  "
      ]
     },
     "execution_count": 33,
     "metadata": {},
     "output_type": "execute_result"
    }
   ],
   "source": [
    "#Se imprime el head() para ver la forma del data set y como se ve no hay que realizar ningun cambio\n",
    "data.head()"
   ]
  },
  {
   "cell_type": "code",
   "execution_count": 34,
   "metadata": {},
   "outputs": [
    {
     "name": "stdout",
     "output_type": "stream",
     "text": [
      "Cantidad de muestras: 299\n"
     ]
    }
   ],
   "source": [
    "#Vamos a ver la cantidad de lineas que se tienen en el set de datos, el esperado es 299 ya que es una\n",
    "#linea por paciente\n",
    "print('Cantidad de muestras:', len(data))"
   ]
  },
  {
   "cell_type": "code",
   "execution_count": 52,
   "metadata": {},
   "outputs": [
    {
     "data": {
      "image/png": "[encoded data removed]",
      "text/plain": [
       "<Figure size 432x288 with 1 Axes>"
      ]
     },
     "metadata": {
      "needs_background": "light"
     },
     "output_type": "display_data"
    },
    {
     "data": {
      "image/png": "[encoded data removed]",
      "text/plain": [
       "<Figure size 432x288 with 1 Axes>"
      ]
     },
     "metadata": {
      "needs_background": "light"
     },
     "output_type": "display_data"
    }
   ],
   "source": [
    "#Muertes y Recuperaciones segun tiempo de estadia (dias)\n",
    "num_bins = 30\n",
    "n, bins, patches = plt.hist(data.loc[data.DEATH_EVENT == 1].time, num_bins, facecolor='green', alpha=0.5)\n",
    "n, bins, patches = plt.hist(data.loc[data.DEATH_EVENT == 0].time, num_bins, facecolor='red', alpha=0.5)\n",
    "plt.legend(('Recover', 'Not-Recover'))\n",
    "plt.ylabel('Count')\n",
    "plt.xlabel('Time (days)')\n",
    "plt.show()\n",
    "\n",
    "\n",
    "#Muertes y Recuperaciones segun condicion de edad\n",
    "num_bins = 20\n",
    "n, bins, patches = plt.hist(data.loc[data.DEATH_EVENT == 1].age, num_bins, facecolor='green', alpha=0.5)\n",
    "n, bins, patches = plt.hist(data.loc[data.DEATH_EVENT == 0].age, num_bins, facecolor='red', alpha=0.5)\n",
    "plt.legend(('Recover', 'Not-Recover'))\n",
    "plt.ylabel('Count')\n",
    "plt.xlabel('Age (Years)')\n",
    "plt.show()"
   ]
  },
  {
   "cell_type": "markdown",
   "metadata": {},
   "source": [
    "## Set train and test Data"
   ]
  },
  {
   "cell_type": "code",
   "execution_count": 53,
   "metadata": {},
   "outputs": [],
   "source": [
    "#Se divide en datos dependientes (Y) e independientes (X) y se colocan en \n",
    "#formato np.array\n",
    "Y = np.array(data.DEATH_EVENT)\n",
    "data = data.drop(['DEATH_EVENT'], axis=1)\n",
    "X = np.array(data)"
   ]
  },
  {
   "cell_type": "code",
   "execution_count": 29,
   "metadata": {},
   "outputs": [],
   "source": [
    "#En esta línea se podría hacer la división entre Test y Train pero al usar Cross-Validation\n",
    "#esta línea ya no es necesaria, aunque se deja por cultura general\n",
    "test_size = 0.15\n",
    "X_train, X_test, y_train, y_test = train_test_split(X, Y, test_size=test_size)"
   ]
  },
  {
   "cell_type": "markdown",
   "metadata": {},
   "source": [
    "## Logistic Regression\n",
    "\n",
    "Es un algortimo de clasificación. La regresión Logistica esta destinado a resultados binarios (1 o 0), y requiere muestras muy grandes para conseguir resultados. Como beneficio de ser facil de implementar y tener un bajo consumo computacional. Más información en https://scikit-learn.org/stable/modules/generated/sklearn.linear_model.LogisticRegression.html\n",
    "\n",
    "Se cambiará el *solver* que es el algoritmo de optimización para ver cual es el que da mejores resultados."
   ]
  },
  {
   "cell_type": "code",
   "execution_count": 54,
   "metadata": {},
   "outputs": [],
   "source": [
    "from sklearn.linear_model import LogisticRegression"
   ]
  },
  {
   "cell_type": "code",
   "execution_count": 55,
   "metadata": {},
   "outputs": [
    {
     "data": {
      "image/png": "[encoded data removed]",
      "text/plain": [
       "<Figure size 432x288 with 1 Axes>"
      ]
     },
     "metadata": {
      "needs_background": "light"
     },
     "output_type": "display_data"
    },
    {
     "name": "stdout",
     "output_type": "stream",
     "text": [
      "El mejor resultado se obtuvo con: liblinear\n",
      "Alcanzando un Accuracy de: 0.8022988505747127\n"
     ]
    }
   ],
   "source": [
    "solver_list = ['lbfgs', 'liblinear', 'sag', 'saga']\n",
    "lr_scores = []\n",
    "tol=0.00013\n",
    "for solver_n in solver_list:\n",
    "    #Inicializacion del modelo\n",
    "    LR     = LogisticRegression(solver = solver_n, max_iter=10000, tol=tol)\n",
    "    \n",
    "    #Validacion con cross-validation\n",
    "    scores = cross_val_score(LR, X, Y, cv=10, scoring='accuracy')\n",
    "    lr_scores.append(scores.mean())\n",
    "\n",
    "#plot\n",
    "fig = plt.figure()\n",
    "ax  = fig.add_axes([0,0,1,1])\n",
    "ax.bar(solver_list,lr_scores)\n",
    "plt.xlabel('Solvers')\n",
    "plt.ylabel('Cross-Validated Accuracy')\n",
    "plt.show()\n",
    "\n",
    "Max =  max(lr_scores)\n",
    "print(\"El mejor resultado se obtuvo con:\", solver_list[lr_scores.index(Max)])\n",
    "print(\"Alcanzando un Accuracy de:\", Max)"
   ]
  },
  {
   "cell_type": "markdown",
   "metadata": {},
   "source": [
    "## kNN (k Nearest Neihbors)\n",
    "\n",
    "Método que busca en las observaciones más cercanas a la que se está tratando de predecir y clasifica el punto de interés basado en la mayoría de datos que le rodean, el valor k es el que varía y significa la cantidad vecinos debe tener cerca el caso para ser clasificado. Más información en https://scikit-learn.org/stable/modules/generated/sklearn.neighbors.KNeighborsClassifier.html\n",
    "\n",
    "En este caso se varía el k para encontrar la mejor configuración, siempre se busca el menor k para la mayor precisión."
   ]
  },
  {
   "cell_type": "code",
   "execution_count": 56,
   "metadata": {},
   "outputs": [],
   "source": [
    "from sklearn.neighbors import KNeighborsClassifier"
   ]
  },
  {
   "cell_type": "code",
   "execution_count": 57,
   "metadata": {},
   "outputs": [
    {
     "data": {
      "image/png": "[encoded data removed]",
      "text/plain": [
       "<Figure size 432x288 with 1 Axes>"
      ]
     },
     "metadata": {
      "needs_background": "light"
     },
     "output_type": "display_data"
    },
    {
     "name": "stdout",
     "output_type": "stream",
     "text": [
      "El mejor resultado se obtuvo con: 21\n",
      "Alcanzando un Accuracy de: 0.6789655172413793\n"
     ]
    }
   ],
   "source": [
    "neighbors_settings = range(1,30)\n",
    "k_scores = []\n",
    "\n",
    "for n_neighbors in neighbors_settings:\n",
    "    # se construye el modelo de clasificacion\n",
    "    KNN = KNeighborsClassifier(n_neighbors=n_neighbors)\n",
    "\n",
    "    #Validacion con cross-validation\n",
    "    scores = cross_val_score(KNN, X, Y, cv=10, scoring='accuracy')\n",
    "    k_scores.append(scores.mean())\n",
    "\n",
    "#plot\n",
    "plt.plot(neighbors_settings, k_scores)\n",
    "plt.xlabel('Value of K for KNN')\n",
    "plt.ylabel('Cross-Validated Accuracy')\n",
    "plt.show()\n",
    "\n",
    "Max =  max(k_scores)\n",
    "print(\"El mejor resultado se obtuvo con:\", k_scores.index(Max))\n",
    "print(\"Alcanzando un Accuracy de:\", Max)"
   ]
  },
  {
   "cell_type": "markdown",
   "metadata": {},
   "source": [
    "## SVM\n",
    "\n",
    "Máquina de vector de soporte. Este método busca la línea que separa de manera óptima las clases que existen en los datos. Por ejemplo:\n",
    "\n",
    "Si se tienen dos tipos de datos (Circulos y cuadrados) y se busca dividirlos/separarlos. Entonces se incorpora los denominados \"Vectores de soporte\", estos son líneas que rozan los datos más cercanos a la línea de separación (límite de decisión). Entonces para dividir los circulos y cuadrados la distancia entre los vectores de soporte debe ser máximo. Más información en https://scikit-learn.org/stable/modules/generated/sklearn.svm.SVC.html\n",
    "\n",
    "En este caso vamos a variar el núcleo del algoritmo (KERNEL) "
   ]
  },
  {
   "cell_type": "code",
   "execution_count": 58,
   "metadata": {},
   "outputs": [],
   "source": [
    "from sklearn.svm import SVC"
   ]
  },
  {
   "cell_type": "code",
   "execution_count": 67,
   "metadata": {},
   "outputs": [],
   "source": [
    "kernel_list   = ['linear', 'poly', 'rbf', 'sigmoid']\n",
    "kernel_scores = []\n",
    "tol=0.00013\n",
    "\n",
    "for kernel_n in kernel_list:\n",
    "    svc    = SVC(kernel=kernel_n, tol=tol)\n",
    "    scores = cross_val_score(svc, X, Y, cv=10, scoring='accuracy')\n",
    "    kernel_scores.append(scores.mean())"
   ]
  },
  {
   "cell_type": "code",
   "execution_count": 68,
   "metadata": {},
   "outputs": [
    {
     "data": {
      "image/png": "[encoded data removed]",
      "text/plain": [
       "<Figure size 432x288 with 1 Axes>"
      ]
     },
     "metadata": {
      "needs_background": "light"
     },
     "output_type": "display_data"
    },
    {
     "name": "stdout",
     "output_type": "stream",
     "text": [
      "El mejor resultado se obtuvo con: linear\n",
      "Alcanzando un Accuracy de: 0.7622988505747127\n"
     ]
    }
   ],
   "source": [
    "#plot\n",
    "fig = plt.figure()\n",
    "ax  = fig.add_axes([0,0,1,1])\n",
    "ax.bar(kernel_list,kernel_scores)\n",
    "plt.xlabel('Solvers')\n",
    "plt.ylabel('Cross-Validated Accuracy')\n",
    "plt.show()\n",
    "\n",
    "Max =  max(kernel_scores)\n",
    "print(\"El mejor resultado se obtuvo con:\", kernel_list[kernel_scores.index(Max)])\n",
    "print(\"Alcanzando un Accuracy de:\", Max)"
   ]
  },
  {
   "cell_type": "markdown",
   "metadata": {},
   "source": [
    "## naive Bayes\n",
    "\n",
    "https://scikit-learn.org/stable/modules/generated/sklearn.naive_bayes.GaussianNB.html"
   ]
  },
  {
   "cell_type": "code",
   "execution_count": 70,
   "metadata": {},
   "outputs": [],
   "source": [
    "from sklearn.naive_bayes import GaussianNB"
   ]
  },
  {
   "cell_type": "code",
   "execution_count": 130,
   "metadata": {},
   "outputs": [
    {
     "data": {
      "image/png": "[encoded data removed]",
      "text/plain": [
       "<Figure size 432x288 with 1 Axes>"
      ]
     },
     "metadata": {
      "needs_background": "light"
     },
     "output_type": "display_data"
    },
    {
     "name": "stdout",
     "output_type": "stream",
     "text": [
      "El mejor resultado se obtuvo con un var_smoothing_list de: 2.5966219297210493e-09\n",
      "Alcanzando un Accuracy de: 0.7956321839080459\n"
     ]
    }
   ],
   "source": [
    "var_smoothing_list = []\n",
    "nB_scores = []\n",
    "\n",
    "var_smoothing = 1e-8\n",
    "\n",
    "\n",
    "for n in range(500):\n",
    "    nbg = GaussianNB(var_smoothing = var_smoothing)\n",
    "    scores = cross_val_score(nbg, X, Y, cv=10, scoring='accuracy')\n",
    "    nB_scores.append(scores.mean())\n",
    "    var_smoothing_list.append(var_smoothing)\n",
    "    var_smoothing = var_smoothing*0.995\n",
    "    \n",
    "#plot\n",
    "plt.plot(var_smoothing_list, nB_scores)\n",
    "plt.xlabel('Value of K for var smoothing list')\n",
    "plt.ylabel('Cross-Validated Accuracy')\n",
    "plt.show()\n",
    "\n",
    "Max =  max(nB_scores)\n",
    "print(\"El mejor resultado se obtuvo con un var_smoothing_list de:\", var_smoothing_list[nB_scores.index(Max)])\n",
    "print(\"Alcanzando un Accuracy de:\", Max)"
   ]
  },
  {
   "cell_type": "markdown",
   "metadata": {},
   "source": [
    "## Decision Trees\n",
    "\n",
    "https://scikit-learn.org/stable/modules/generated/sklearn.tree.DecisionTreeClassifier.html"
   ]
  },
  {
   "cell_type": "code",
   "execution_count": 96,
   "metadata": {},
   "outputs": [],
   "source": [
    "from sklearn.tree import DecisionTreeClassifier"
   ]
  },
  {
   "cell_type": "code",
   "execution_count": 131,
   "metadata": {},
   "outputs": [
    {
     "name": "stdout",
     "output_type": "stream",
     "text": [
      "Accuracy on cross-validation = 0.6789655172413793\n"
     ]
    }
   ],
   "source": [
    "tree = DecisionTreeClassifier(criterion = 'entropy')\n",
    "scores = cross_val_score(tree, X, Y, cv=10, scoring='accuracy')\n",
    "\n",
    "print(\"Accuracy on cross-validation =\",scores.mean())"
   ]
  },
  {
   "cell_type": "markdown",
   "metadata": {},
   "source": [
    "## AdaBoost\n",
    "\n",
    "https://scikit-learn.org/stable/modules/generated/sklearn.ensemble.AdaBoostClassifier.html"
   ]
  },
  {
   "cell_type": "code",
   "execution_count": null,
   "metadata": {},
   "outputs": [],
   "source": []
  },
  {
   "cell_type": "code",
   "execution_count": null,
   "metadata": {},
   "outputs": [],
   "source": []
  },
  {
   "cell_type": "code",
   "execution_count": null,
   "metadata": {},
   "outputs": [],
   "source": []
  },
  {
   "cell_type": "markdown",
   "metadata": {},
   "source": [
    "# Conclusiones\n",
    "\n",
    "Como se puede ver en las comparaciones, para los mejores hiper-parametros las opciones más adecuadas son naive Bayes, usando distribución Gaussiana y con un var_smoothing_list = 2.5966219297210493e-09, muy similar al que trae la función por defecto (1e-9). \n",
    "\n",
    "Y asi mismo se recomienda usar Logistic Regression con el algoritmo de optimización *liblinear*. Este resultado se le atribuye a la naturaleza del set de datos, al tener una clasificación binaria (Recuperación del paciente positiva o negativa)"
   ]
  }
 ],
 "metadata": {
  "kernelspec": {
   "display_name": "Python 3",
   "language": "python",
   "name": "python3"
  },
  "language_info": {
   "codemirror_mode": {
    "name": "ipython",
    "version": 3
   },
   "file_extension": ".py",
   "mimetype": "text/x-python",
   "name": "python",
   "nbconvert_exporter": "python",
   "pygments_lexer": "ipython3",
   "version": "3.8.3"
  }
 },
 "nbformat": 4,
 "nbformat_minor": 4
}
